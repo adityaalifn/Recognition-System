{
 "cells": [
  {
   "cell_type": "markdown",
   "metadata": {
    "colab_type": "text",
    "id": "i6H04wdh5QfO"
   },
   "source": [
    "# Import dependencies"
   ]
  },
  {
   "cell_type": "code",
   "execution_count": null,
   "metadata": {
    "colab": {
     "autoexec": {
      "startup": false,
      "wait_interval": 0
     }
    },
    "colab_type": "code",
    "id": "guUyTDBLzseC"
   },
   "outputs": [],
   "source": [
    "from keras.models import Sequential\n",
    "from keras.layers import Dense, Flatten, Conv2D, MaxPooling2D, AveragePooling2D, Dropout, SpatialDropout2D\n",
    "from keras.optimizers import RMSprop, SGD, Adam\n",
    "from keras.datasets import mnist\n",
    "from keras.utils import np_utils\n",
    "from keras import backend as K"
   ]
  },
  {
   "cell_type": "markdown",
   "metadata": {
    "colab_type": "text",
    "id": "5OX6pgFZ5UPv"
   },
   "source": [
    "# Load the MNIST Dataset"
   ]
  },
  {
   "cell_type": "code",
   "execution_count": null,
   "metadata": {
    "colab": {
     "autoexec": {
      "startup": false,
      "wait_interval": 0
     },
     "base_uri": "https://localhost:8080/",
     "height": 146,
     "output_extras": [
      {
       "item_id": 1
      },
      {
       "item_id": 2
      }
     ]
    },
    "colab_type": "code",
    "executionInfo": {
     "elapsed": 1800,
     "status": "ok",
     "timestamp": 1520233355184,
     "user": {
      "displayName": "Muhammad Rizki A.R.M",
      "photoUrl": "//lh4.googleusercontent.com/-wJl22KwFwt4/AAAAAAAAAAI/AAAAAAAAAFE/zwUKEd684mI/s50-c-k-no/photo.jpg",
      "userId": "108797564725020082111"
     },
     "user_tz": -480
    },
    "id": "-pnIt3fjzseN",
    "outputId": "a32bd79a-0453-4520-ef6a-ae9497c8d5ff"
   },
   "outputs": [],
   "source": [
    "img_rows, img_cols = 28, 28         # input image dimensions\n",
    "nb_classes = 10\n",
    "number_of_data = 2000\n",
    "\n",
    "# Load MNIST dataset\n",
    "(X_train, y_train), (X_test, y_test) = mnist.load_data()\n",
    "print('X_train original shape:', X_train.shape)\n",
    "\n",
    "if K.image_dim_ordering() == 'th':\n",
    "    # For Theano backend\n",
    "    X_train = X_train.reshape(X_train.shape[0], 1, img_rows, img_cols)\n",
    "    X_test = X_test.reshape(X_test.shape[0], 1, img_rows, img_cols)\n",
    "    input_shape = (1, img_rows, img_cols)\n",
    "else:\n",
    "    # For TensorFlow backend\n",
    "    X_train = X_train.reshape(X_train.shape[0], img_rows, img_cols, 1)\n",
    "    X_test = X_test.reshape(X_test.shape[0], img_rows, img_cols, 1)\n",
    "    input_shape = (img_rows, img_cols, 1)\n",
    "    \n",
    "\n",
    "# Split train test\n",
    "X_train = X_train.astype('float32') / 255.\n",
    "X_test = X_test.astype('float32') / 255.\n",
    "Y_train = np_utils.to_categorical(y_train, nb_classes)\n",
    "Y_test = np_utils.to_categorical(y_test, nb_classes)\n",
    "\n",
    "X_train = X_train[:number_of_data]\n",
    "Y_train = Y_train[:number_of_data]\n",
    "X_test = X_test[:number_of_data]\n",
    "Y_test = Y_test[:number_of_data]\n",
    "\n",
    "print('X_train shape:', X_train.shape)\n",
    "print(X_train.shape[0], 'train samples')\n",
    "print(X_test.shape[0], 'test samples')\n",
    "    \n",
    "\n",
    "# Visualize MNIST dataset\n",
    "import matplotlib.pyplot as plt\n",
    "%matplotlib inline\n",
    "\n",
    "n = 10  # how many digits we will display\n",
    "plt.figure(figsize=(10, 4))\n",
    "for i in range(n):\n",
    "    # display original\n",
    "    ax = plt.subplot(2, n, i + 1)\n",
    "    plt.imshow(X_train[i].reshape(28, 28))\n",
    "    plt.gray()\n",
    "    ax.get_xaxis().set_visible(False)\n",
    "    ax.get_yaxis().set_visible(False)\n",
    "plt.show()"
   ]
  },
  {
   "cell_type": "markdown",
   "metadata": {
    "colab_type": "text",
    "id": "xOt_LvYv6O_b"
   },
   "source": [
    "# Convolutional Neural Network\n",
    "<img align=\"left\" width=\"70%\" src=\"images/cnn.png\"/>"
   ]
  },
  {
   "cell_type": "markdown",
   "metadata": {
    "colab_type": "text",
    "id": "uaT6lQEK6hVw"
   },
   "source": [
    "## Build"
   ]
  },
  {
   "cell_type": "code",
   "execution_count": null,
   "metadata": {
    "colab": {
     "autoexec": {
      "startup": false,
      "wait_interval": 0
     },
     "base_uri": "https://localhost:8080/",
     "height": 578,
     "output_extras": [
      {
       "item_id": 1
      }
     ]
    },
    "colab_type": "code",
    "executionInfo": {
     "elapsed": 702,
     "status": "ok",
     "timestamp": 1520233355922,
     "user": {
      "displayName": "Muhammad Rizki A.R.M",
      "photoUrl": "//lh4.googleusercontent.com/-wJl22KwFwt4/AAAAAAAAAAI/AAAAAAAAAFE/zwUKEd684mI/s50-c-k-no/photo.jpg",
      "userId": "108797564725020082111"
     },
     "user_tz": -480
    },
    "id": "tobvxLB-zseX",
    "outputId": "81c7b137-0adf-4432-fb12-3303160d1d06",
    "scrolled": true
   },
   "outputs": [],
   "source": [
    "# Settings\n",
    "pool_size = (2, 2)                  # size of pooling area for max pooling\n",
    "prob_drop_conv = 0.2                # drop probability for dropout @ conv layer\n",
    "prob_drop_hidden = 0.5              # drop probability for dropout @ fc layer\n",
    "\n",
    "# Convolutional model\n",
    "model = Sequential()\n",
    "\n",
    "# conv1 layer\n",
    "model.add(Conv2D(32, (3, 3), padding='same', activation='relu', input_shape=input_shape))\n",
    "model.add(MaxPooling2D(pool_size=pool_size, strides=(2,2), padding='same'))\n",
    "model.add(SpatialDropout2D(prob_drop_conv))\n",
    "\n",
    "# conv2 layer\n",
    "model.add(Conv2D(64, (3, 3), padding='same', activation='relu'))\n",
    "model.add(MaxPooling2D(pool_size=pool_size, strides=(2,2), padding='same'))\n",
    "model.add(Flatten())\n",
    "model.add(Dropout(prob_drop_conv))\n",
    "\n",
    "# fc1 layer\n",
    "model.add(Dense(625, activation='relu'))\n",
    "model.add(Dropout(prob_drop_hidden))\n",
    "\n",
    "# fc2 layer\n",
    "model.add(Dense(10, activation='softmax'))\n",
    "\n",
    "opt = SGD(lr=0.01)\n",
    "model.compile(optimizer=opt, loss='categorical_crossentropy', metrics=['accuracy'])\n",
    "model.summary()"
   ]
  },
  {
   "cell_type": "markdown",
   "metadata": {
    "colab_type": "text",
    "id": "pjdhi6sg6jpH"
   },
   "source": [
    "## Train"
   ]
  },
  {
   "cell_type": "code",
   "execution_count": null,
   "metadata": {
    "colab": {
     "autoexec": {
      "startup": false,
      "wait_interval": 0
     },
     "base_uri": "https://localhost:8080/",
     "height": 357,
     "output_extras": [
      {
       "item_id": 7
      }
     ]
    },
    "colab_type": "code",
    "executionInfo": {
     "elapsed": 2772,
     "status": "ok",
     "timestamp": 1520233358973,
     "user": {
      "displayName": "Muhammad Rizki A.R.M",
      "photoUrl": "//lh4.googleusercontent.com/-wJl22KwFwt4/AAAAAAAAAAI/AAAAAAAAAFE/zwUKEd684mI/s50-c-k-no/photo.jpg",
      "userId": "108797564725020082111"
     },
     "user_tz": -480
    },
    "id": "OQCcrF3kzsec",
    "outputId": "79aff32f-0ece-498f-db98-f18376e198b9"
   },
   "outputs": [],
   "source": [
    "# Settings\n",
    "batch_size = 128\n",
    "epochs = 10\n",
    "\n",
    "# Train\n",
    "history = model.fit(X_train, Y_train, epochs=epochs, batch_size=batch_size, shuffle=True, verbose=1)"
   ]
  },
  {
   "cell_type": "markdown",
   "metadata": {
    "colab_type": "text",
    "id": "hm9ZQrMp6ndB"
   },
   "source": [
    "## Evaluate"
   ]
  },
  {
   "cell_type": "code",
   "execution_count": null,
   "metadata": {
    "colab": {
     "autoexec": {
      "startup": false,
      "wait_interval": 0
     },
     "base_uri": "https://localhost:8080/",
     "height": 189,
     "output_extras": [
      {
       "item_id": 1
      }
     ]
    },
    "colab_type": "code",
    "executionInfo": {
     "elapsed": 779,
     "status": "error",
     "timestamp": 1520251006109,
     "user": {
      "displayName": "Remmy A. M. Zen",
      "photoUrl": "//lh3.googleusercontent.com/-ktZ2HlWgZKs/AAAAAAAAAAI/AAAAAAAAAyQ/KXzkZxHcCv8/s50-c-k-no/photo.jpg",
      "userId": "105553372204800287741"
     },
     "user_tz": -480
    },
    "id": "aXnmFiWUzseg",
    "outputId": "0d6d4799-6637-4e01-82c1-4fc457dc8cda"
   },
   "outputs": [],
   "source": [
    "evaluation = model.evaluate(X_test, Y_test, batch_size=256, verbose=1)\n",
    "print('Summary: Loss over the test dataset: %.2f, Accuracy: %.2f' % (evaluation[0], evaluation[1]))"
   ]
  },
  {
   "cell_type": "markdown",
   "metadata": {
    "colab_type": "text",
    "id": "t_k_KmE07aRz"
   },
   "source": [
    "# Layers & Hyperparameters"
   ]
  },
  {
   "cell_type": "markdown",
   "metadata": {
    "colab_type": "text",
    "id": "fq4FhmkZ7wzQ"
   },
   "source": [
    "## Preliminaries"
   ]
  },
  {
   "cell_type": "code",
   "execution_count": null,
   "metadata": {
    "colab": {
     "autoexec": {
      "startup": false,
      "wait_interval": 0
     }
    },
    "colab_type": "code",
    "id": "2ksVe0rf8XKx"
   },
   "outputs": [],
   "source": [
    "def default_optim():\n",
    "  return SGD(lr=0.01)\n",
    "\n",
    "def train_model(model, optim=default_optim(), epochs=10, batch_size=128):\n",
    "  model.compile(optimizer=optim, loss='categorical_crossentropy', metrics=['accuracy'])\n",
    "  model.summary()\n",
    "  history = model.fit(X_train, Y_train, epochs=epochs, batch_size=batch_size, verbose=1)\n",
    "  \n",
    "def eval_model(model):\n",
    "  evaluation = model.evaluate(X_test, Y_test, verbose=1)\n",
    "  print('Summary: Loss over the test dataset: %.4f, Accuracy: %.4f' % (evaluation[0], evaluation[1]))\n",
    "  \n",
    "def train_and_eval_model(model, optim=default_optim(), epochs=10, batch_size=128):\n",
    "  train_model(model, optim, epochs, batch_size)\n",
    "  eval_model(model)"
   ]
  },
  {
   "cell_type": "markdown",
   "metadata": {
    "colab_type": "text",
    "id": "0AcNGbRj7eEQ"
   },
   "source": [
    "## Convolution Layers"
   ]
  },
  {
   "cell_type": "code",
   "execution_count": null,
   "metadata": {
    "colab": {
     "autoexec": {
      "startup": false,
      "wait_interval": 0
     },
     "base_uri": "https://localhost:8080/",
     "height": 612,
     "output_extras": [
      {
       "item_id": 2
      }
     ]
    },
    "colab_type": "code",
    "executionInfo": {
     "elapsed": 2598,
     "status": "ok",
     "timestamp": 1520233388185,
     "user": {
      "displayName": "Muhammad Rizki A.R.M",
      "photoUrl": "//lh4.googleusercontent.com/-wJl22KwFwt4/AAAAAAAAAAI/AAAAAAAAAFE/zwUKEd684mI/s50-c-k-no/photo.jpg",
      "userId": "108797564725020082111"
     },
     "user_tz": -480
    },
    "id": "t7cClXmf8eeq",
    "outputId": "7e130f4b-07a6-4930-9b84-37024b23f9a0"
   },
   "outputs": [],
   "source": [
    "model = Sequential()\n",
    "model.add(Conv2D(32, (3, 3), padding='same', activation='relu', input_shape=input_shape))\n",
    "model.add(Flatten())\n",
    "model.add(Dense(10, activation='softmax'))\n",
    "\n",
    "train_and_eval_model(model)"
   ]
  },
  {
   "cell_type": "markdown",
   "metadata": {
    "colab_type": "text",
    "id": "NdCv4yMz7iDO"
   },
   "source": [
    "## Pooling Layers"
   ]
  },
  {
   "cell_type": "markdown",
   "metadata": {
    "colab_type": "text",
    "id": "MZRE1XJg7naQ"
   },
   "source": [
    "### Max Pooling"
   ]
  },
  {
   "cell_type": "code",
   "execution_count": null,
   "metadata": {
    "colab": {
     "autoexec": {
      "startup": false,
      "wait_interval": 0
     },
     "base_uri": "https://localhost:8080/",
     "height": 646,
     "output_extras": [
      {
       "item_id": 2
      }
     ]
    },
    "colab_type": "code",
    "executionInfo": {
     "elapsed": 3035,
     "status": "ok",
     "timestamp": 1520233397753,
     "user": {
      "displayName": "Muhammad Rizki A.R.M",
      "photoUrl": "//lh4.googleusercontent.com/-wJl22KwFwt4/AAAAAAAAAAI/AAAAAAAAAFE/zwUKEd684mI/s50-c-k-no/photo.jpg",
      "userId": "108797564725020082111"
     },
     "user_tz": -480
    },
    "id": "kLI3SdDu86F0",
    "outputId": "179b641e-74d1-43ac-948d-94fd10435cd5"
   },
   "outputs": [],
   "source": [
    "model = Sequential()\n",
    "model.add(Conv2D(32, (3, 3), padding='same', activation='relu', input_shape=input_shape))\n",
    "model.add(MaxPooling2D(pool_size=pool_size, strides=(2,2), padding='same'))\n",
    "model.add(Flatten())\n",
    "model.add(Dense(10, activation='softmax'))\n",
    "\n",
    "train_and_eval_model(model)"
   ]
  },
  {
   "cell_type": "markdown",
   "metadata": {
    "colab_type": "text",
    "id": "x7pjSAPz7o0i"
   },
   "source": [
    "### Average Pooling"
   ]
  },
  {
   "cell_type": "code",
   "execution_count": null,
   "metadata": {
    "colab": {
     "autoexec": {
      "startup": false,
      "wait_interval": 0
     },
     "base_uri": "https://localhost:8080/",
     "height": 646,
     "output_extras": [
      {
       "item_id": 5
      }
     ]
    },
    "colab_type": "code",
    "executionInfo": {
     "elapsed": 2642,
     "status": "ok",
     "timestamp": 1520233419180,
     "user": {
      "displayName": "Muhammad Rizki A.R.M",
      "photoUrl": "//lh4.googleusercontent.com/-wJl22KwFwt4/AAAAAAAAAAI/AAAAAAAAAFE/zwUKEd684mI/s50-c-k-no/photo.jpg",
      "userId": "108797564725020082111"
     },
     "user_tz": -480
    },
    "id": "hLQyVDH39Ku4",
    "outputId": "e06d1776-1a97-45cd-dd3d-62eb4ebacd86"
   },
   "outputs": [],
   "source": [
    "pool_size = (2,2)\n",
    "\n",
    "model = Sequential()\n",
    "model.add(Conv2D(32, (3, 3), padding='same', activation='relu', input_shape=input_shape))\n",
    "model.add(AveragePooling2D(pool_size=pool_size, strides=(2,2), padding='same'))\n",
    "model.add(Flatten())\n",
    "model.add(Dense(10, activation='softmax'))\n",
    "\n",
    "train_and_eval_model(model)"
   ]
  },
  {
   "cell_type": "markdown",
   "metadata": {
    "colab_type": "text",
    "id": "PGuhqQCt71RH"
   },
   "source": [
    "## Dropout Layers"
   ]
  },
  {
   "cell_type": "code",
   "execution_count": null,
   "metadata": {
    "colab": {
     "autoexec": {
      "startup": false,
      "wait_interval": 0
     },
     "base_uri": "https://localhost:8080/",
     "height": 646,
     "output_extras": [
      {
       "item_id": 2
      }
     ]
    },
    "colab_type": "code",
    "executionInfo": {
     "elapsed": 3384,
     "status": "ok",
     "timestamp": 1520233428168,
     "user": {
      "displayName": "Muhammad Rizki A.R.M",
      "photoUrl": "//lh4.googleusercontent.com/-wJl22KwFwt4/AAAAAAAAAAI/AAAAAAAAAFE/zwUKEd684mI/s50-c-k-no/photo.jpg",
      "userId": "108797564725020082111"
     },
     "user_tz": -480
    },
    "id": "QUwB5tXv9XiO",
    "outputId": "61c708ab-7e28-44cf-b709-31d7a9fa8894"
   },
   "outputs": [],
   "source": [
    "model = Sequential()\n",
    "model.add(Conv2D(32, (3, 3), padding='same', activation='relu', input_shape=input_shape))\n",
    "model.add(SpatialDropout2D(prob_drop_conv))\n",
    "model.add(Flatten())\n",
    "model.add(Dense(10, activation='softmax'))\n",
    "\n",
    "train_and_eval_model(model)"
   ]
  },
  {
   "cell_type": "code",
   "execution_count": null,
   "metadata": {},
   "outputs": [],
   "source": []
  }
 ],
 "metadata": {
  "accelerator": "GPU",
  "colab": {
   "default_view": {},
   "name": "02_convolutional_net.ipynb",
   "provenance": [],
   "version": "0.3.2",
   "views": {}
  },
  "kernelspec": {
   "display_name": "Python 2",
   "language": "python",
   "name": "python2"
  },
  "language_info": {
   "codemirror_mode": {
    "name": "ipython",
    "version": 2
   },
   "file_extension": ".py",
   "mimetype": "text/x-python",
   "name": "python",
   "nbconvert_exporter": "python",
   "pygments_lexer": "ipython2",
   "version": "2.7.12"
  }
 },
 "nbformat": 4,
 "nbformat_minor": 1
}
