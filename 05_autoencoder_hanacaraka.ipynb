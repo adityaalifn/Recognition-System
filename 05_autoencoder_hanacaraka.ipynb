{
 "cells": [
  {
   "cell_type": "markdown",
   "metadata": {
    "colab_type": "text",
    "id": "i6H04wdh5QfO"
   },
   "source": [
    "# Import dependencies"
   ]
  },
  {
   "cell_type": "code",
   "execution_count": null,
   "metadata": {
    "colab": {
     "autoexec": {
      "startup": false,
      "wait_interval": 0
     },
     "base_uri": "https://localhost:8080/",
     "height": 35,
     "output_extras": [
      {
       "item_id": 1
      }
     ]
    },
    "colab_type": "code",
    "executionInfo": {
     "elapsed": 4642,
     "status": "ok",
     "timestamp": 1520316523438,
     "user": {
      "displayName": "Remmy A. M. Zen",
      "photoUrl": "//lh3.googleusercontent.com/-ktZ2HlWgZKs/AAAAAAAAAAI/AAAAAAAAAyQ/KXzkZxHcCv8/s50-c-k-no/photo.jpg",
      "userId": "105553372204800287741"
     },
     "user_tz": -480
    },
    "id": "guUyTDBLzseC",
    "outputId": "e0788374-dd5c-4e63-d3f0-a4dc4a728154"
   },
   "outputs": [],
   "source": [
    "from keras.models import Sequential\n",
    "from keras.layers import Dense, Flatten, Conv2D, MaxPooling2D, AveragePooling2D, Dropout, SpatialDropout2D, UpSampling2D\n",
    "from keras.optimizers import RMSprop\n",
    "\n",
    "from keras.preprocessing import image \n",
    "from keras import backend as K\n",
    "import os\n",
    "import numpy as np\n",
    "from keras.applications.resnet50 import preprocess_input\n",
    "import PIL.ImageOps    \n",
    "from keras.utils import np_utils\n",
    "np.random.seed(23)"
   ]
  },
  {
   "cell_type": "markdown",
   "metadata": {
    "colab_type": "text",
    "id": "5OX6pgFZ5UPv"
   },
   "source": [
    "# Load the Hanacaraka Dataset"
   ]
  },
  {
   "cell_type": "code",
   "execution_count": null,
   "metadata": {
    "colab": {
     "autoexec": {
      "startup": false,
      "wait_interval": 0
     },
     "base_uri": "https://localhost:8080/",
     "height": 239,
     "output_extras": [
      {
       "item_id": 1
      }
     ]
    },
    "colab_type": "code",
    "executionInfo": {
     "elapsed": 745,
     "status": "error",
     "timestamp": 1520316527044,
     "user": {
      "displayName": "Remmy A. M. Zen",
      "photoUrl": "//lh3.googleusercontent.com/-ktZ2HlWgZKs/AAAAAAAAAAI/AAAAAAAAAyQ/KXzkZxHcCv8/s50-c-k-no/photo.jpg",
      "userId": "105553372204800287741"
     },
     "user_tz": -480
    },
    "id": "-pnIt3fjzseN",
    "outputId": "837e62ad-e2b1-431d-f1a7-faf77321ad70"
   },
   "outputs": [],
   "source": [
    "folder = 'hanacaraka/'\n",
    "\n",
    "img_rows, img_cols, img_chns = 60, 80, 1         # input image dimensions\n",
    "nb_classes = 20\n",
    "number_of_data = 1000\n",
    "corruption_level = 0.3\n",
    "\n",
    "X_train = []\n",
    "Y_train = []\n",
    "\n",
    "for cl, fld in enumerate(os.listdir(folder)):\n",
    "        for f in os.listdir(folder + fld):\n",
    "                img = image.load_img(folder + fld + '/' + f, \n",
    "                                     grayscale=True, target_size=(img_rows, img_cols))     # read image\n",
    "                img = PIL.ImageOps.invert(img)\n",
    "                img = image.img_to_array(img)\n",
    "                X_train.append(img.reshape((img_rows, img_cols, 1)))\n",
    "                Y_train.append(cl)\n",
    "\n",
    "\n",
    "X_train = np.array(X_train)\n",
    "Y_train = np.array(Y_train)\n",
    "\n",
    "shuffled_indices = np.random.permutation(X_train.shape[0])\n",
    "X_train = X_train[shuffled_indices] \n",
    "Y_train = Y_train[shuffled_indices] \n",
    "X_test = X_train[X_train.shape[0]//2:]\n",
    "X_train = X_train[:X_train.shape[0]//2]\n",
    "\n",
    "Y_test = Y_train[Y_train.shape[0]//2:]\n",
    "Y_train = Y_train[:Y_train.shape[0]//2]\n",
    "\n",
    "print('X_train original shape:', X_train.shape)\n",
    "\n",
    "if K.image_dim_ordering() == 'th':\n",
    "    # For Theano backend\n",
    "    X_train = X_train.reshape(X_train.shape[0], 1, img_rows, img_cols)\n",
    "    X_test = X_test.reshape(X_test.shape[0], 1, img_rows, img_cols)\n",
    "    input_shape = (1, img_rows, img_cols)\n",
    "else:\n",
    "    # For TensorFlow backend\n",
    "    X_train = X_train.reshape(X_train.shape[0], img_rows, img_cols, 1)\n",
    "    X_test = X_test.reshape(X_test.shape[0], img_rows, img_cols, 1)\n",
    "    input_shape = (img_rows, img_cols, 1)\n",
    "\n",
    "# Split train test\n",
    "X_train = X_train.astype('float32') / 255.\n",
    "X_test = X_test.astype('float32') / 255.\n",
    "Y_train = np_utils.to_categorical(Y_train, nb_classes)\n",
    "Y_test = np_utils.to_categorical(Y_test, nb_classes)\n",
    "\n",
    "X_train = X_train[:number_of_data]\n",
    "Y_train = Y_train[:number_of_data]\n",
    "X_test = X_test[:number_of_data]\n",
    "Y_test = Y_test[:number_of_data]\n",
    "\n",
    "print('X_train shape:', X_train.shape)\n",
    "print(X_train.shape[0], 'train samples')\n",
    "print(X_test.shape[0], 'test samples')\n",
    "\n",
    "## Apply noise to the image\n",
    "X_train_noisy = X_train + corruption_level * np.random.normal(loc=0.0, scale=1.0, size=X_train.shape)\n",
    "X_test_noisy = X_test + corruption_level * np.random.normal(loc=0.0, scale=1.0, size=X_test.shape)\n",
    "X_train_noisy = np.clip(X_train_noisy, 0., 1.)\n",
    "X_test_noisy = np.clip(X_test_noisy, 0., 1.)\n",
    "print(X_train_noisy.shape)\n",
    "print(X_test_noisy.shape)\n",
    "\n",
    "# Visualize MNIST dataset\n",
    "import matplotlib.pyplot as plt\n",
    "%matplotlib inline\n",
    "\n",
    "n = 10 \n",
    "plt.figure(figsize=(10, 4))\n",
    "for i in range(n):\n",
    "    # display original\n",
    "    ax = plt.subplot(2, n, i + 1)\n",
    "    plt.imshow(X_train[i].reshape(img_rows, img_cols))\n",
    "    plt.gray()\n",
    "    ax.get_xaxis().set_visible(False)\n",
    "    ax.get_yaxis().set_visible(False)\n",
    "plt.show()\n",
    "\n",
    "import matplotlib.pyplot as plt\n",
    "%matplotlib inline\n",
    "\n",
    "n = 10  \n",
    "plt.figure(figsize=(10, 4))\n",
    "for i in range(n):\n",
    "    ax = plt.subplot(2, n, i + 1)\n",
    "    plt.imshow(X_train_noisy[i].reshape(img_rows, img_cols))\n",
    "    plt.gray()\n",
    "    ax.get_xaxis().set_visible(False)\n",
    "    ax.get_yaxis().set_visible(False)\n",
    "plt.show()"
   ]
  },
  {
   "cell_type": "markdown",
   "metadata": {
    "colab_type": "text",
    "id": "xOt_LvYv6O_b"
   },
   "source": [
    "# Convolutional Autoencoder"
   ]
  },
  {
   "cell_type": "markdown",
   "metadata": {
    "colab_type": "text",
    "id": "uaT6lQEK6hVw"
   },
   "source": [
    "## Build"
   ]
  },
  {
   "cell_type": "code",
   "execution_count": null,
   "metadata": {
    "colab": {
     "autoexec": {
      "startup": false,
      "wait_interval": 0
     },
     "base_uri": "https://localhost:8080/",
     "height": 578,
     "output_extras": [
      {}
     ]
    },
    "colab_type": "code",
    "executionInfo": {
     "elapsed": 702,
     "status": "ok",
     "timestamp": 1520233355922,
     "user": {
      "displayName": "Muhammad Rizki A.R.M",
      "photoUrl": "//lh4.googleusercontent.com/-wJl22KwFwt4/AAAAAAAAAAI/AAAAAAAAAFE/zwUKEd684mI/s50-c-k-no/photo.jpg",
      "userId": "108797564725020082111"
     },
     "user_tz": -480
    },
    "id": "tobvxLB-zseX",
    "outputId": "81c7b137-0adf-4432-fb12-3303160d1d06"
   },
   "outputs": [],
   "source": [
    "# Settings\n",
    "pool_size = (2, 2)                  # size of pooling area for max pooling\n",
    "input_shape = (img_rows, img_cols, img_chns)\n",
    "\n",
    "model = Sequential()\n",
    "model.add(Conv2D(16, (3, 3), padding='same', activation='relu', input_shape=input_shape))\n",
    "model.add(MaxPooling2D(pool_size=pool_size, strides=(2,2), padding='same'))\n",
    "\n",
    "model.add(Conv2D(16, (3, 3), padding='same', activation='relu'))\n",
    "model.add(UpSampling2D(pool_size))\n",
    "model.add(Conv2D(1, (3, 3), padding='same', activation='sigmoid'))\n",
    "\n",
    "model.compile(optimizer='adam', loss='binary_crossentropy')\n",
    "model.summary()"
   ]
  },
  {
   "cell_type": "markdown",
   "metadata": {
    "colab_type": "text",
    "id": "pjdhi6sg6jpH"
   },
   "source": [
    "## Train"
   ]
  },
  {
   "cell_type": "code",
   "execution_count": null,
   "metadata": {
    "colab": {
     "autoexec": {
      "startup": false,
      "wait_interval": 0
     },
     "base_uri": "https://localhost:8080/",
     "height": 357,
     "output_extras": [
      {},
      {},
      {},
      {},
      {},
      {},
      {},
      {},
      {},
      {},
      {},
      {},
      {},
      {},
      {},
      {},
      {},
      {},
      {},
      {},
      {},
      {},
      {},
      {},
      {},
      {},
      {},
      {},
      {},
      {},
      {},
      {},
      {},
      {},
      {},
      {},
      {},
      {},
      {},
      {},
      {},
      {},
      {},
      {},
      {},
      {},
      {},
      {},
      {},
      {},
      {},
      {},
      {},
      {},
      {},
      {},
      {},
      {},
      {},
      {},
      {},
      {},
      {},
      {},
      {},
      {},
      {},
      {},
      {},
      {},
      {},
      {},
      {},
      {},
      {},
      {},
      {},
      {},
      {},
      {},
      {},
      {},
      {},
      {},
      {},
      {},
      {},
      {},
      {},
      {},
      {},
      {},
      {},
      {},
      {},
      {},
      {},
      {},
      {},
      {},
      {},
      {},
      {},
      {},
      {},
      {},
      {},
      {},
      {},
      {},
      {},
      {},
      {},
      {},
      {},
      {},
      {},
      {},
      {},
      {},
      {},
      {},
      {},
      {},
      {},
      {},
      {},
      {},
      {},
      {},
      {},
      {},
      {},
      {},
      {},
      {},
      {},
      {},
      {},
      {},
      {},
      {},
      {},
      {},
      {},
      {},
      {},
      {},
      {},
      {},
      {},
      {},
      {},
      {},
      {},
      {},
      {},
      {},
      {},
      {},
      {},
      {},
      {},
      {},
      {},
      {},
      {},
      {},
      {},
      {},
      {},
      {},
      {},
      {},
      {},
      {},
      {},
      {},
      {},
      {},
      {},
      {},
      {},
      {},
      {},
      {},
      {},
      {},
      {},
      {},
      {},
      {},
      {},
      {},
      {},
      {},
      {},
      {},
      {},
      {},
      {},
      {},
      {},
      {},
      {},
      {},
      {},
      {},
      {},
      {},
      {},
      {},
      {},
      {},
      {},
      {},
      {},
      {},
      {},
      {},
      {},
      {},
      {},
      {},
      {},
      {},
      {},
      {},
      {},
      {},
      {},
      {},
      {},
      {},
      {},
      {},
      {},
      {},
      {},
      {},
      {},
      {},
      {},
      {},
      {},
      {},
      {},
      {},
      {},
      {},
      {},
      {},
      {},
      {},
      {},
      {},
      {},
      {},
      {},
      {},
      {},
      {},
      {},
      {},
      {},
      {},
      {},
      {},
      {},
      {},
      {},
      {},
      {},
      {},
      {},
      {},
      {},
      {},
      {},
      {}
     ]
    },
    "colab_type": "code",
    "executionInfo": {
     "elapsed": 2772,
     "status": "ok",
     "timestamp": 1520233358973,
     "user": {
      "displayName": "Muhammad Rizki A.R.M",
      "photoUrl": "//lh4.googleusercontent.com/-wJl22KwFwt4/AAAAAAAAAAI/AAAAAAAAAFE/zwUKEd684mI/s50-c-k-no/photo.jpg",
      "userId": "108797564725020082111"
     },
     "user_tz": -480
    },
    "id": "OQCcrF3kzsec",
    "outputId": "79aff32f-0ece-498f-db98-f18376e198b9"
   },
   "outputs": [],
   "source": [
    "# Hyper parameters\n",
    "batch_size = 128\n",
    "nb_epoch = 10\n",
    "\n",
    "model.fit(X_train_noisy, X_train,\n",
    "                epochs=nb_epoch, batch_size=batch_size, shuffle=True, verbose=1,\n",
    "                validation_data=(X_test_noisy, X_test))"
   ]
  },
  {
   "cell_type": "markdown",
   "metadata": {
    "colab_type": "text",
    "id": "hm9ZQrMp6ndB"
   },
   "source": [
    "## Evaluate"
   ]
  },
  {
   "cell_type": "code",
   "execution_count": null,
   "metadata": {
    "colab": {
     "autoexec": {
      "startup": false,
      "wait_interval": 0
     },
     "base_uri": "https://localhost:8080/",
     "height": 189,
     "output_extras": [
      {},
      {},
      {},
      {},
      {},
      {},
      {},
      {},
      {}
     ]
    },
    "colab_type": "code",
    "executionInfo": {
     "elapsed": 779,
     "status": "error",
     "timestamp": 1520251006109,
     "user": {
      "displayName": "Remmy A. M. Zen",
      "photoUrl": "//lh3.googleusercontent.com/-ktZ2HlWgZKs/AAAAAAAAAAI/AAAAAAAAAyQ/KXzkZxHcCv8/s50-c-k-no/photo.jpg",
      "userId": "105553372204800287741"
     },
     "user_tz": -480
    },
    "id": "aXnmFiWUzseg",
    "outputId": "0d6d4799-6637-4e01-82c1-4fc457dc8cda"
   },
   "outputs": [],
   "source": [
    "evaluation = model.evaluate(X_test_noisy, X_test, batch_size=256, verbose=1)\n",
    "print('Summary: Loss over the test dataset: %.2f' % (evaluation))"
   ]
  },
  {
   "cell_type": "code",
   "execution_count": null,
   "metadata": {
    "colab": {
     "autoexec": {
      "startup": false,
      "wait_interval": 0
     }
    },
    "colab_type": "code",
    "id": "OjgoKHSuzsej"
   },
   "outputs": [],
   "source": [
    "import matplotlib.pyplot as plt\n",
    "%matplotlib inline\n",
    "\n",
    "# Decode test images \n",
    "decoded_imgs = model.predict(X_test_noisy)\n",
    "\n",
    "n = 10  # how many digits we will display\n",
    "plt.figure(figsize=(10, 2))\n",
    "for i in range(n):\n",
    "    # display original\n",
    "    ax = plt.subplot(2, n, i + 1)\n",
    "    plt.imshow(X_test_noisy[i].reshape(img_rows, img_cols))\n",
    "    plt.gray()\n",
    "    ax.get_xaxis().set_visible(False)\n",
    "    ax.get_yaxis().set_visible(False)\n",
    "\n",
    "    # display reconstruction\n",
    "    ax = plt.subplot(2, n, i + 1 + n)\n",
    "    plt.imshow(decoded_imgs[i].reshape(img_rows, img_cols))\n",
    "    plt.gray()\n",
    "    ax.get_xaxis().set_visible(False)\n",
    "    ax.get_yaxis().set_visible(False)\n",
    "plt.show()"
   ]
  },
  {
   "cell_type": "code",
   "execution_count": null,
   "metadata": {},
   "outputs": [],
   "source": []
  }
 ],
 "metadata": {
  "colab": {
   "default_view": {},
   "name": "05_autoencoder_hanacaraka.ipynb",
   "provenance": [],
   "version": "0.3.2",
   "views": {}
  },
  "kernelspec": {
   "display_name": "Python 2",
   "language": "python",
   "name": "python2"
  },
  "language_info": {
   "codemirror_mode": {
    "name": "ipython",
    "version": 2
   },
   "file_extension": ".py",
   "mimetype": "text/x-python",
   "name": "python",
   "nbconvert_exporter": "python",
   "pygments_lexer": "ipython2",
   "version": "2.7.12"
  }
 },
 "nbformat": 4,
 "nbformat_minor": 1
}
