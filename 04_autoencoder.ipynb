{
 "cells": [
  {
   "cell_type": "markdown",
   "metadata": {
    "colab_type": "text",
    "id": "5NcfNiiI-G3w"
   },
   "source": [
    "# Import dependencies"
   ]
  },
  {
   "cell_type": "code",
   "execution_count": null,
   "metadata": {
    "colab": {
     "autoexec": {
      "startup": false,
      "wait_interval": 0
     }
    },
    "colab_type": "code",
    "id": "0I1O8n7RzsJA"
   },
   "outputs": [],
   "source": [
    "from keras.models import Sequential\n",
    "from keras.layers import Dense, Input, Conv2D, MaxPooling2D, UpSampling2D\n",
    "from keras.datasets import mnist\n",
    "import numpy as np\n",
    "from keras.utils import np_utils"
   ]
  },
  {
   "cell_type": "markdown",
   "metadata": {
    "colab_type": "text",
    "id": "sl4b9MmO-RUO"
   },
   "source": [
    "# Load the MNIST Dataset"
   ]
  },
  {
   "cell_type": "code",
   "execution_count": null,
   "metadata": {
    "colab": {
     "autoexec": {
      "startup": false,
      "wait_interval": 0
     },
     "base_uri": "https://localhost:8080/",
     "height": 115,
     "output_extras": [
      {
       "item_id": 1
      },
      {
       "item_id": 2
      }
     ]
    },
    "colab_type": "code",
    "executionInfo": {
     "elapsed": 1410,
     "status": "ok",
     "timestamp": 1520252044927,
     "user": {
      "displayName": "Remmy A. M. Zen",
      "photoUrl": "//lh3.googleusercontent.com/-ktZ2HlWgZKs/AAAAAAAAAAI/AAAAAAAAAyQ/KXzkZxHcCv8/s50-c-k-no/photo.jpg",
      "userId": "105553372204800287741"
     },
     "user_tz": -480
    },
    "id": "VSco7YX0zsJF",
    "outputId": "fb7d67f3-2253-4516-9d4e-ee3a682985cc"
   },
   "outputs": [],
   "source": [
    "# Parameters for MNIST dataset\n",
    "img_rows, img_cols = 28, 28\n",
    "number_of_data = 1000\n",
    "\n",
    "# Load MNIST Dataset\n",
    "(x_train, _), (x_test, _) = mnist.load_data()\n",
    "x_train = x_train.astype('float32') / 255.\n",
    "x_test = x_test.astype('float32') / 255.\n",
    "x_train = x_train.reshape((len(x_train), img_rows * img_cols))\n",
    "x_test = x_test.reshape((len(x_test), img_rows * img_cols))\n",
    "x_train = x_train[:number_of_data]\n",
    "x_test = x_test[:number_of_data]\n",
    "\n",
    "print(x_train.shape)\n",
    "print(x_test.shape)\n",
    "\n",
    "# Visualize MNIST dataset\n",
    "import matplotlib.pyplot as plt\n",
    "%matplotlib inline\n",
    "\n",
    "n = 10  # how many digits we will display\n",
    "plt.figure(figsize=(10, 4))\n",
    "for i in range(n):\n",
    "    # display original\n",
    "    ax = plt.subplot(2, n, i + 1)\n",
    "    plt.imshow(x_train[i].reshape(28, 28))\n",
    "    plt.gray()\n",
    "    ax.get_xaxis().set_visible(False)\n",
    "    ax.get_yaxis().set_visible(False)\n",
    "plt.show()"
   ]
  },
  {
   "cell_type": "markdown",
   "metadata": {
    "colab_type": "text",
    "id": "l-w00N5H_KJo"
   },
   "source": [
    "# Autoencoder\n",
    "<img align=\"left\" width=\"40%\" src=\"images/autoencoder.png\"/>"
   ]
  },
  {
   "cell_type": "markdown",
   "metadata": {
    "colab_type": "text",
    "id": "HYLsHJpS_O8-"
   },
   "source": [
    "## Build"
   ]
  },
  {
   "cell_type": "code",
   "execution_count": null,
   "metadata": {
    "colab": {
     "autoexec": {
      "startup": false,
      "wait_interval": 0
     },
     "base_uri": "https://localhost:8080/",
     "height": 251,
     "output_extras": [
      {
       "item_id": 1
      }
     ]
    },
    "colab_type": "code",
    "executionInfo": {
     "elapsed": 823,
     "status": "ok",
     "timestamp": 1520251792345,
     "user": {
      "displayName": "Remmy A. M. Zen",
      "photoUrl": "//lh3.googleusercontent.com/-ktZ2HlWgZKs/AAAAAAAAAAI/AAAAAAAAAyQ/KXzkZxHcCv8/s50-c-k-no/photo.jpg",
      "userId": "105553372204800287741"
     },
     "user_tz": -480
    },
    "id": "cZxroW9gzsJQ",
    "outputId": "e9a7781f-5f9d-431c-eb59-808effbaedfb"
   },
   "outputs": [],
   "source": [
    "# Parameters for autoencoder\n",
    "nb_visible = img_rows * img_cols\n",
    "nb_hidden = 100\n",
    "\n",
    "autoencoder = Sequential()\n",
    "\n",
    "autoencoder.add(Dense(nb_hidden, input_shape=(nb_visible,), activation='relu'))\n",
    "autoencoder.add(Dense(nb_visible, activation='sigmoid'))\n",
    "\n",
    "autoencoder.compile(optimizer='adam', loss='binary_crossentropy')\n",
    "autoencoder.summary()"
   ]
  },
  {
   "cell_type": "markdown",
   "metadata": {
    "colab_type": "text",
    "id": "DOG9GMd6BPX2"
   },
   "source": [
    "## Train"
   ]
  },
  {
   "cell_type": "code",
   "execution_count": null,
   "metadata": {
    "colab": {
     "autoexec": {
      "startup": false,
      "wait_interval": 0
     },
     "base_uri": "https://localhost:8080/",
     "height": 1909,
     "output_extras": [
      {
       "item_id": 1
      },
      {
       "item_id": 2
      },
      {
       "item_id": 13
      },
      {
       "item_id": 23
      },
      {
       "item_id": 26
      },
      {
       "item_id": 27
      }
     ]
    },
    "colab_type": "code",
    "executionInfo": {
     "elapsed": 7409,
     "status": "ok",
     "timestamp": 1520251818371,
     "user": {
      "displayName": "Remmy A. M. Zen",
      "photoUrl": "//lh3.googleusercontent.com/-ktZ2HlWgZKs/AAAAAAAAAAI/AAAAAAAAAyQ/KXzkZxHcCv8/s50-c-k-no/photo.jpg",
      "userId": "105553372204800287741"
     },
     "user_tz": -480
    },
    "id": "leXXbbq8zsJS",
    "outputId": "f0be16e2-7812-4ae6-aa7f-735a487114b0"
   },
   "outputs": [],
   "source": [
    "# Settings\n",
    "batch_size = 128\n",
    "nb_epoch = 50\n",
    "\n",
    "# Train\n",
    "autoencoder.fit(x_train, x_train,\n",
    "                epochs=nb_epoch, batch_size=batch_size, shuffle=True, verbose=1,\n",
    "                validation_data=(x_test, x_test))"
   ]
  },
  {
   "cell_type": "markdown",
   "metadata": {
    "colab_type": "text",
    "id": "Dh9jwIl8Ba7i"
   },
   "source": [
    "## Evaluate"
   ]
  },
  {
   "cell_type": "code",
   "execution_count": null,
   "metadata": {
    "colab": {
     "autoexec": {
      "startup": false,
      "wait_interval": 0
     },
     "base_uri": "https://localhost:8080/",
     "height": 71,
     "output_extras": [
      {
       "item_id": 1
      }
     ]
    },
    "colab_type": "code",
    "executionInfo": {
     "elapsed": 568,
     "status": "ok",
     "timestamp": 1520251821946,
     "user": {
      "displayName": "Remmy A. M. Zen",
      "photoUrl": "//lh3.googleusercontent.com/-ktZ2HlWgZKs/AAAAAAAAAAI/AAAAAAAAAyQ/KXzkZxHcCv8/s50-c-k-no/photo.jpg",
      "userId": "105553372204800287741"
     },
     "user_tz": -480
    },
    "id": "FzVPnQsrzsJV",
    "outputId": "22e4c71d-d965-4fc2-c7d1-c870f3695fa5"
   },
   "outputs": [],
   "source": [
    "evaluation = autoencoder.evaluate(x_test, x_test, batch_size=batch_size, verbose=1)\n",
    "print('\\nSummary: Loss over the test dataset: %.2f' % (evaluation))"
   ]
  },
  {
   "cell_type": "markdown",
   "metadata": {
    "colab_type": "text",
    "id": "V8rFkGwUBhPL"
   },
   "source": [
    "## Visualize Reconstruction"
   ]
  },
  {
   "cell_type": "code",
   "execution_count": null,
   "metadata": {
    "colab": {
     "autoexec": {
      "startup": false,
      "wait_interval": 0
     },
     "base_uri": "https://localhost:8080/",
     "height": 138,
     "output_extras": [
      {
       "item_id": 1
      }
     ]
    },
    "colab_type": "code",
    "executionInfo": {
     "elapsed": 1721,
     "status": "ok",
     "timestamp": 1520251826132,
     "user": {
      "displayName": "Remmy A. M. Zen",
      "photoUrl": "//lh3.googleusercontent.com/-ktZ2HlWgZKs/AAAAAAAAAAI/AAAAAAAAAyQ/KXzkZxHcCv8/s50-c-k-no/photo.jpg",
      "userId": "105553372204800287741"
     },
     "user_tz": -480
    },
    "id": "m78Z86A-zsJY",
    "outputId": "9d124289-5405-4eb1-a5a2-7ff6b32ed429"
   },
   "outputs": [],
   "source": [
    "import matplotlib.pyplot as plt\n",
    "%matplotlib inline\n",
    "\n",
    "# Decode test images \n",
    "decoded_imgs = autoencoder.predict(x_test)\n",
    "\n",
    "n = 10  # how many digits we will display\n",
    "plt.figure(figsize=(10, 2))\n",
    "for i in range(n):\n",
    "    # display original\n",
    "    ax = plt.subplot(2, n, i + 1)\n",
    "    plt.imshow(x_test[i].reshape(28, 28))\n",
    "    plt.gray()\n",
    "    ax.get_xaxis().set_visible(False)\n",
    "    ax.get_yaxis().set_visible(False)\n",
    "\n",
    "    # display reconstruction\n",
    "    ax = plt.subplot(2, n, i + 1 + n)\n",
    "    plt.imshow(decoded_imgs[i].reshape(28, 28))\n",
    "    plt.gray()\n",
    "    ax.get_xaxis().set_visible(False)\n",
    "    ax.get_yaxis().set_visible(False)\n",
    "plt.show()"
   ]
  },
  {
   "cell_type": "markdown",
   "metadata": {},
   "source": [
    "## Visualize Denoising"
   ]
  },
  {
   "cell_type": "code",
   "execution_count": null,
   "metadata": {
    "colab": {
     "autoexec": {
      "startup": false,
      "wait_interval": 0
     },
     "base_uri": "https://localhost:8080/",
     "height": 138,
     "output_extras": [
      {
       "item_id": 1
      }
     ]
    },
    "colab_type": "code",
    "executionInfo": {
     "elapsed": 1885,
     "status": "ok",
     "timestamp": 1520251831550,
     "user": {
      "displayName": "Remmy A. M. Zen",
      "photoUrl": "//lh3.googleusercontent.com/-ktZ2HlWgZKs/AAAAAAAAAAI/AAAAAAAAAyQ/KXzkZxHcCv8/s50-c-k-no/photo.jpg",
      "userId": "105553372204800287741"
     },
     "user_tz": -480
    },
    "id": "sseyrsCKzsJa",
    "outputId": "49fbfe3c-1bcb-4d58-e433-7009fe159023"
   },
   "outputs": [],
   "source": [
    "import matplotlib.pyplot as plt\n",
    "%matplotlib inline\n",
    "\n",
    "# Decode test images \n",
    "x_test_corrupted = x_test + 0.4 * np.random.normal(loc=0.0, scale=1.0, size=x_train.shape)\n",
    "\n",
    "    \n",
    "x_test_corrupted = np.array(x_test_corrupted)\n",
    "decoded_imgs = autoencoder.predict(x_test_corrupted)\n",
    "\n",
    "n = 10  # how many digits we will display\n",
    "plt.figure(figsize=(10, 2))\n",
    "for i in range(n):\n",
    "    # display original\n",
    "    ax = plt.subplot(2, n, i + 1)\n",
    "    plt.imshow(x_test_corrupted[i].reshape(28, 28))\n",
    "    plt.gray()\n",
    "    ax.get_xaxis().set_visible(False)\n",
    "    ax.get_yaxis().set_visible(False)\n",
    "\n",
    "    # display reconstruction\n",
    "    ax = plt.subplot(2, n, i + 1 + n)\n",
    "    plt.imshow(decoded_imgs[i].reshape(28, 28))\n",
    "    plt.gray()\n",
    "    ax.get_xaxis().set_visible(False)\n",
    "    ax.get_yaxis().set_visible(False)\n",
    "plt.show()"
   ]
  },
  {
   "cell_type": "markdown",
   "metadata": {
    "colab_type": "text",
    "id": "0Fnh0HH4EnJT"
   },
   "source": [
    "# Convolutional Autoencoder\n",
    "<img align=\"left\" width=\"90%\" src=\"images/cnn_autoencoder.png\"/>"
   ]
  },
  {
   "cell_type": "markdown",
   "metadata": {
    "colab_type": "text",
    "id": "33Z1h7VgE82Y"
   },
   "source": [
    "## Load MNIST data in 2D"
   ]
  },
  {
   "cell_type": "code",
   "execution_count": null,
   "metadata": {
    "colab": {
     "autoexec": {
      "startup": false,
      "wait_interval": 0
     },
     "base_uri": "https://localhost:8080/",
     "height": 53,
     "output_extras": [
      {
       "item_id": 1
      }
     ]
    },
    "colab_type": "code",
    "executionInfo": {
     "elapsed": 1049,
     "status": "ok",
     "timestamp": 1520254284176,
     "user": {
      "displayName": "Remmy A. M. Zen",
      "photoUrl": "//lh3.googleusercontent.com/-ktZ2HlWgZKs/AAAAAAAAAAI/AAAAAAAAAyQ/KXzkZxHcCv8/s50-c-k-no/photo.jpg",
      "userId": "105553372204800287741"
     },
     "user_tz": -480
    },
    "id": "Xp0AutoHCHYF",
    "outputId": "286106da-19d0-4475-8201-5f20bc0bd57a"
   },
   "outputs": [],
   "source": [
    "# Parameters for MNIST dataset\n",
    "img_rows, img_cols, img_chns = 28, 28, 1\n",
    "number_of_data = 1000\n",
    "nb_classes = 10\n",
    "\n",
    "# Load MNIST Dataset\n",
    "(x_train, y_train), (x_test, y_test) = mnist.load_data()\n",
    "x_train = x_train.astype('float32') / 255.\n",
    "x_test = x_test.astype('float32') / 255.\n",
    "x_train = x_train.reshape((len(x_train), img_rows, img_cols, img_chns))\n",
    "x_test = x_test.reshape((len(x_test), img_rows, img_cols, img_chns))\n",
    "x_train = x_train[:number_of_data]\n",
    "x_test = x_test[:number_of_data]\n",
    "y_train = np_utils.to_categorical(y_train, nb_classes)\n",
    "y_test = np_utils.to_categorical(y_test, nb_classes)\n",
    "y_train = y_train[:number_of_data]\n",
    "y_test = y_test[:number_of_data]\n",
    "\n",
    "print(x_train.shape)\n",
    "print(x_test.shape)"
   ]
  },
  {
   "cell_type": "markdown",
   "metadata": {
    "colab_type": "text",
    "id": "-Z1XxObWFe62"
   },
   "source": [
    "## Build"
   ]
  },
  {
   "cell_type": "code",
   "execution_count": null,
   "metadata": {
    "colab": {
     "autoexec": {
      "startup": false,
      "wait_interval": 0
     },
     "base_uri": "https://localhost:8080/",
     "height": 359,
     "output_extras": [
      {
       "item_id": 1
      }
     ]
    },
    "colab_type": "code",
    "executionInfo": {
     "elapsed": 730,
     "status": "ok",
     "timestamp": 1520256995305,
     "user": {
      "displayName": "Remmy A. M. Zen",
      "photoUrl": "//lh3.googleusercontent.com/-ktZ2HlWgZKs/AAAAAAAAAAI/AAAAAAAAAyQ/KXzkZxHcCv8/s50-c-k-no/photo.jpg",
      "userId": "105553372204800287741"
     },
     "user_tz": -480
    },
    "id": "5JCMPpXVFIYP",
    "outputId": "82f72172-706c-47e1-d2b7-ea7be5f431d0"
   },
   "outputs": [],
   "source": [
    "# Settings\n",
    "pool_size = (2, 2)                  # size of pooling area for max pooling\n",
    "input_shape = (img_rows, img_cols, img_chns)\n",
    "\n",
    "model = Sequential()\n",
    "model.add(Conv2D(32, (3, 3), padding='same', activation='relu', input_shape=input_shape))\n",
    "model.add(MaxPooling2D(pool_size=pool_size, strides=(2,2), padding='same'))\n",
    "model.add(Conv2D(32, (3, 3), padding='same', activation='relu'))\n",
    "model.add(MaxPooling2D(pool_size=pool_size, strides=(2,2), padding='same'))\n",
    "\n",
    "# at this point the representation is (7, 7, 32)\n",
    "\n",
    "model.add(Conv2D(32, (3, 3), padding='same', activation='relu'))\n",
    "model.add(UpSampling2D(pool_size))\n",
    "model.add(Conv2D(32, (3, 3), padding='same', activation='relu'))\n",
    "model.add(UpSampling2D(pool_size))\n",
    "model.add(Conv2D(1, (3, 3), padding='same', activation='sigmoid'))\n",
    "\n",
    "model.compile(optimizer='adam', loss='binary_crossentropy')\n",
    "model.summary()"
   ]
  },
  {
   "cell_type": "markdown",
   "metadata": {
    "colab_type": "text",
    "id": "8TbB1mO5GQe7"
   },
   "source": [
    "## Training"
   ]
  },
  {
   "cell_type": "code",
   "execution_count": null,
   "metadata": {
    "colab": {
     "autoexec": {
      "startup": false,
      "wait_interval": 0
     },
     "base_uri": "https://localhost:8080/",
     "height": 469,
     "output_extras": [
      {
       "item_id": 1
      },
      {
       "item_id": 26
      },
      {
       "item_id": 27
      }
     ]
    },
    "colab_type": "code",
    "executionInfo": {
     "elapsed": 26060,
     "status": "ok",
     "timestamp": 1520257028969,
     "user": {
      "displayName": "Remmy A. M. Zen",
      "photoUrl": "//lh3.googleusercontent.com/-ktZ2HlWgZKs/AAAAAAAAAAI/AAAAAAAAAyQ/KXzkZxHcCv8/s50-c-k-no/photo.jpg",
      "userId": "105553372204800287741"
     },
     "user_tz": -480
    },
    "id": "pDeeznoiGSUF",
    "outputId": "cc4b064f-20d3-461b-8b4f-a0ce9c5d9057"
   },
   "outputs": [],
   "source": [
    "# Settings\n",
    "batch_size = 128\n",
    "nb_epoch = 15\n",
    "\n",
    "# Train\n",
    "model.fit(x_train, x_train,\n",
    "                epochs=nb_epoch, batch_size=batch_size, shuffle=True, verbose=1,\n",
    "                validation_data=(x_test, x_test))"
   ]
  },
  {
   "cell_type": "markdown",
   "metadata": {
    "colab_type": "text",
    "id": "Bo2MxTeqGjAl"
   },
   "source": [
    "## Evaluate"
   ]
  },
  {
   "cell_type": "code",
   "execution_count": null,
   "metadata": {
    "colab": {
     "autoexec": {
      "startup": false,
      "wait_interval": 0
     },
     "base_uri": "https://localhost:8080/",
     "height": 71,
     "output_extras": [
      {
       "item_id": 3
      }
     ]
    },
    "colab_type": "code",
    "executionInfo": {
     "elapsed": 1264,
     "status": "ok",
     "timestamp": 1520256964366,
     "user": {
      "displayName": "Remmy A. M. Zen",
      "photoUrl": "//lh3.googleusercontent.com/-ktZ2HlWgZKs/AAAAAAAAAAI/AAAAAAAAAyQ/KXzkZxHcCv8/s50-c-k-no/photo.jpg",
      "userId": "105553372204800287741"
     },
     "user_tz": -480
    },
    "id": "LwgIpjUCGVhn",
    "outputId": "5db0949f-c962-4b21-d566-21746ff6416f"
   },
   "outputs": [],
   "source": [
    "evaluation = model.evaluate(x_test, x_test, batch_size=batch_size, verbose=1)\n",
    "print('\\nSummary: Loss over the test dataset: %.2f' % (evaluation))"
   ]
  },
  {
   "cell_type": "markdown",
   "metadata": {
    "colab_type": "text",
    "id": "HrGA8xHhGquF"
   },
   "source": [
    "## Visualize Reconstruction"
   ]
  },
  {
   "cell_type": "code",
   "execution_count": null,
   "metadata": {
    "colab": {
     "autoexec": {
      "startup": false,
      "wait_interval": 0
     },
     "base_uri": "https://localhost:8080/",
     "height": 138,
     "output_extras": [
      {
       "item_id": 1
      }
     ]
    },
    "colab_type": "code",
    "executionInfo": {
     "elapsed": 2430,
     "status": "ok",
     "timestamp": 1520256968262,
     "user": {
      "displayName": "Remmy A. M. Zen",
      "photoUrl": "//lh3.googleusercontent.com/-ktZ2HlWgZKs/AAAAAAAAAAI/AAAAAAAAAyQ/KXzkZxHcCv8/s50-c-k-no/photo.jpg",
      "userId": "105553372204800287741"
     },
     "user_tz": -480
    },
    "id": "srQdEjlQGsR_",
    "outputId": "b7a9d9a1-e629-43c2-fe29-a246cd1d6d72",
    "scrolled": true
   },
   "outputs": [],
   "source": [
    "import matplotlib.pyplot as plt\n",
    "%matplotlib inline\n",
    "\n",
    "# Decode test images \n",
    "decoded_imgs = model.predict(x_test)\n",
    "\n",
    "n = 10  # how many digits we will display\n",
    "plt.figure(figsize=(10, 2))\n",
    "for i in range(n):\n",
    "    # display original\n",
    "    ax = plt.subplot(2, n, i + 1)\n",
    "    plt.imshow(x_test[i].reshape(28, 28))\n",
    "    plt.gray()\n",
    "    ax.get_xaxis().set_visible(False)\n",
    "    ax.get_yaxis().set_visible(False)\n",
    "\n",
    "    # display reconstruction\n",
    "    ax = plt.subplot(2, n, i + 1 + n)\n",
    "    plt.imshow(decoded_imgs[i].reshape(28, 28))\n",
    "    plt.gray()\n",
    "    ax.get_xaxis().set_visible(False)\n",
    "    ax.get_yaxis().set_visible(False)\n",
    "plt.show()"
   ]
  },
  {
   "cell_type": "markdown",
   "metadata": {},
   "source": [
    "## Visualize Denoising"
   ]
  },
  {
   "cell_type": "code",
   "execution_count": null,
   "metadata": {
    "colab": {
     "autoexec": {
      "startup": false,
      "wait_interval": 0
     },
     "base_uri": "https://localhost:8080/",
     "height": 138,
     "output_extras": [
      {
       "item_id": 1
      }
     ]
    },
    "colab_type": "code",
    "executionInfo": {
     "elapsed": 2430,
     "status": "ok",
     "timestamp": 1520256972262,
     "user": {
      "displayName": "Remmy A. M. Zen",
      "photoUrl": "//lh3.googleusercontent.com/-ktZ2HlWgZKs/AAAAAAAAAAI/AAAAAAAAAyQ/KXzkZxHcCv8/s50-c-k-no/photo.jpg",
      "userId": "105553372204800287741"
     },
     "user_tz": -480
    },
    "id": "OaFQkdOzGv2h",
    "outputId": "fc3c5197-da6a-4cda-87cb-421f0a2bf2e5",
    "scrolled": true
   },
   "outputs": [],
   "source": [
    "import matplotlib.pyplot as plt\n",
    "%matplotlib inline\n",
    "\n",
    "# Decode test images \n",
    "#x_test_corrupted = x_test[10:]\n",
    "x_test_corrupted = x_test + 0.4 * np.random.normal(loc=0.0, scale=1.0, size=x_train.shape)\n",
    "\n",
    "    \n",
    "x_test_corrupted = np.array(x_test_corrupted)\n",
    "decoded_imgs = model.predict(x_test_corrupted)\n",
    "\n",
    "n = 10  # how many digits we will display\n",
    "plt.figure(figsize=(10, 2))\n",
    "for i in range(n):\n",
    "    # display original\n",
    "    ax = plt.subplot(2, n, i + 1)\n",
    "    plt.imshow(x_test_corrupted[i].reshape(28, 28))\n",
    "    plt.gray()\n",
    "    ax.get_xaxis().set_visible(False)\n",
    "    ax.get_yaxis().set_visible(False)\n",
    "\n",
    "    # display reconstruction\n",
    "    ax = plt.subplot(2, n, i + 1 + n)\n",
    "    plt.imshow(decoded_imgs[i].reshape(28, 28))\n",
    "    plt.gray()\n",
    "    ax.get_xaxis().set_visible(False)\n",
    "    ax.get_yaxis().set_visible(False)\n",
    "plt.show()"
   ]
  },
  {
   "cell_type": "markdown",
   "metadata": {},
   "source": [
    "# Supplementary - Use Feature from Autoencoder\n"
   ]
  },
  {
   "cell_type": "markdown",
   "metadata": {},
   "source": [
    "## Create model with functional Keras"
   ]
  },
  {
   "cell_type": "code",
   "execution_count": null,
   "metadata": {},
   "outputs": [],
   "source": [
    "from keras.layers import Input, Dense, Conv2D, MaxPooling2D, UpSampling2D\n",
    "from keras.models import Model\n",
    "from keras import backend as K\n",
    "\n",
    "input_img = Input(shape=(28, 28, 1))\n",
    "x = Conv2D(8, (3, 3), activation='relu', padding='same')(input_img)\n",
    "x = MaxPooling2D((2, 2), padding='same')(x)\n",
    "x = Conv2D(8, (3, 3), activation='relu', padding='same')(x)\n",
    "encoded = MaxPooling2D((2, 2), padding='same')(x)\n",
    "\n",
    "x = Conv2D(8, (3, 3), activation='relu', padding='same')(encoded)\n",
    "x = UpSampling2D((2, 2))(x)\n",
    "x = Conv2D(8, (3, 3), activation='relu', padding='same')(x)\n",
    "x = UpSampling2D((2, 2))(x)\n",
    "decoded = Conv2D(1, (3, 3), activation='sigmoid', padding='same')(x)\n",
    "\n",
    "autoencoder = Model(input_img, decoded)\n",
    "autoencoder.compile(optimizer='adam', loss='binary_crossentropy')\n",
    "autoencoder.summary()\n",
    "autoencoder.fit(x_train, x_train,\n",
    "                epochs=15,\n",
    "                batch_size=128,\n",
    "                shuffle=True,\n",
    "                validation_data=(x_test, x_test))"
   ]
  },
  {
   "cell_type": "markdown",
   "metadata": {},
   "source": [
    "## Get encoded data"
   ]
  },
  {
   "cell_type": "code",
   "execution_count": null,
   "metadata": {},
   "outputs": [],
   "source": [
    "encoder = Model(input_img, encoded)\n",
    "\n",
    "encoded_imgs = encoder.predict(x_train)\n",
    "print 'Encode image shape:', encoded_imgs.shape\n",
    "encoded_imgs = encoded_imgs.reshape(encoded_imgs.shape[0],-1) # flatten \n",
    "print 'Encode image shape after reshape:', encoded_imgs.shape\n",
    "\n",
    "encoded_test = encoder.predict(x_test)\n",
    "encoded_test = encoded_test.reshape(encoded_test.shape[0],-1) # flatten \n",
    "print 'Encode image shape:', encoded_test.shape\n",
    "print 'Encode image shape after reshape:', encoded_test.shape\n",
    "\n"
   ]
  },
  {
   "cell_type": "markdown",
   "metadata": {},
   "source": [
    "## Train a Classifier"
   ]
  },
  {
   "cell_type": "code",
   "execution_count": null,
   "metadata": {},
   "outputs": [],
   "source": [
    "model = Sequential()\n",
    "model.add(Dense(units=200, input_dim=encoded_imgs.shape[1], kernel_initializer='normal', activation='sigmoid'))\n",
    "model.add(Dense(units=10, input_dim=200, kernel_initializer='normal', activation='softmax'))\n",
    "model.compile(optimizer='adam', loss='categorical_crossentropy', metrics=['accuracy'])\n",
    "model.summary()\n",
    "\n",
    "batch_size = 128\n",
    "epochs = 10\n",
    "\n",
    "history = model.fit(encoded_imgs, y_train, epochs=epochs, batch_size=batch_size, verbose=1)"
   ]
  },
  {
   "cell_type": "markdown",
   "metadata": {},
   "source": [
    "## Evaluate"
   ]
  },
  {
   "cell_type": "code",
   "execution_count": null,
   "metadata": {},
   "outputs": [],
   "source": [
    "evaluation = model.evaluate(encoded_test, y_test, verbose=1)\n",
    "print('Summary: Loss over the test dataset: %.2f, Accuracy: %.2f' % (evaluation[0], evaluation[1]))"
   ]
  },
  {
   "cell_type": "code",
   "execution_count": null,
   "metadata": {},
   "outputs": [],
   "source": []
  }
 ],
 "metadata": {
  "colab": {
   "default_view": {},
   "name": "04_autoencoder.ipynb",
   "provenance": [],
   "version": "0.3.2",
   "views": {}
  },
  "kernelspec": {
   "display_name": "Python 2",
   "language": "python",
   "name": "python2"
  },
  "language_info": {
   "codemirror_mode": {
    "name": "ipython",
    "version": 2
   },
   "file_extension": ".py",
   "mimetype": "text/x-python",
   "name": "python",
   "nbconvert_exporter": "python",
   "pygments_lexer": "ipython2",
   "version": "2.7.12"
  }
 },
 "nbformat": 4,
 "nbformat_minor": 1
}
