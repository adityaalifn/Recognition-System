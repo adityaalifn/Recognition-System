{
 "cells": [
  {
   "cell_type": "markdown",
   "metadata": {
    "colab_type": "text",
    "id": "D6ZRirUMs-g0"
   },
   "source": [
    "# Import dependencies"
   ]
  },
  {
   "cell_type": "code",
   "execution_count": null,
   "metadata": {
    "colab": {
     "autoexec": {
      "startup": false,
      "wait_interval": 0
     },
     "base_uri": "https://localhost:8080/",
     "height": 34,
     "output_extras": [
      {
       "item_id": 1
      }
     ]
    },
    "colab_type": "code",
    "executionInfo": {
     "elapsed": 4033,
     "status": "ok",
     "timestamp": 1520231423697,
     "user": {
      "displayName": "Muhammad Rizki A.R.M",
      "photoUrl": "//lh4.googleusercontent.com/-wJl22KwFwt4/AAAAAAAAAAI/AAAAAAAAAFE/zwUKEd684mI/s50-c-k-no/photo.jpg",
      "userId": "108797564725020082111"
     },
     "user_tz": -480
    },
    "id": "AWSaUDQV_1ao",
    "outputId": "3c04eb8e-f020-42aa-abf9-b3d7227e8192"
   },
   "outputs": [],
   "source": [
    "from keras.models import Sequential\n",
    "from keras.layers import Dense\n",
    "from keras.optimizers import SGD, Adam\n",
    "from keras.datasets import mnist\n",
    "from keras.utils import np_utils"
   ]
  },
  {
   "cell_type": "markdown",
   "metadata": {
    "colab_type": "text",
    "id": "PCbXp6jWtHyY"
   },
   "source": [
    "# Load the MNIST Dataset"
   ]
  },
  {
   "cell_type": "code",
   "execution_count": null,
   "metadata": {
    "colab": {
     "autoexec": {
      "startup": false,
      "wait_interval": 0
     },
     "base_uri": "https://localhost:8080/",
     "height": 78,
     "output_extras": [
      {
       "item_id": 1
      }
     ]
    },
    "colab_type": "code",
    "executionInfo": {
     "elapsed": 1886,
     "status": "ok",
     "timestamp": 1520231425632,
     "user": {
      "displayName": "Muhammad Rizki A.R.M",
      "photoUrl": "//lh4.googleusercontent.com/-wJl22KwFwt4/AAAAAAAAAAI/AAAAAAAAAFE/zwUKEd684mI/s50-c-k-no/photo.jpg",
      "userId": "108797564725020082111"
     },
     "user_tz": -480
    },
    "id": "P8NzyHN1_1a0",
    "outputId": "aba39c42-ff09-470e-addd-619f7b8dd413"
   },
   "outputs": [],
   "source": [
    "# Settings\n",
    "nb_classes = 10\n",
    "number_of_data = 5000\n",
    "\n",
    "# Load MNIST dataset\n",
    "(X_train, y_train), (X_test, y_test) = mnist.load_data()\n",
    "X_train = X_train.reshape(60000, 784)\n",
    "X_test = X_test.reshape(10000, 784)\n",
    "X_train = X_train.astype('float32')\n",
    "X_test = X_test.astype('float32')\n",
    "X_train /= 255\n",
    "X_test /= 255\n",
    "Y_Train = np_utils.to_categorical(y_train, nb_classes)\n",
    "Y_Test = np_utils.to_categorical(y_test, nb_classes)\n",
    "\n",
    "X_train = X_train[:number_of_data]\n",
    "Y_Train = Y_Train[:number_of_data]\n",
    "X_test = X_test[:number_of_data]\n",
    "Y_Test = Y_Test[:number_of_data]\n",
    "\n",
    "# Visualize MNIST dataset\n",
    "import matplotlib.pyplot as plt\n",
    "%matplotlib inline\n",
    "\n",
    "n = 10  # how many digits we will display\n",
    "plt.figure(figsize=(10, 4))\n",
    "for i in range(n):\n",
    "    # display original\n",
    "    ax = plt.subplot(2, n, i + 1)\n",
    "    plt.imshow(X_train[i].reshape(28, 28))\n",
    "    plt.gray()\n",
    "    ax.get_xaxis().set_visible(False)\n",
    "    ax.get_yaxis().set_visible(False)\n",
    "plt.show()"
   ]
  },
  {
   "cell_type": "markdown",
   "metadata": {
    "colab_type": "text",
    "id": "rUsNpK7JtfiS"
   },
   "source": [
    "# Single-layer neural network\n",
    "<img align=\"left\" width=\"40%\" src=\"images/nn-1-layer.png\"/>"
   ]
  },
  {
   "cell_type": "markdown",
   "metadata": {
    "colab_type": "text",
    "id": "1uFVaRZStzQT"
   },
   "source": [
    "## Build"
   ]
  },
  {
   "cell_type": "code",
   "execution_count": null,
   "metadata": {
    "colab": {
     "autoexec": {
      "startup": false,
      "wait_interval": 0
     },
     "base_uri": "https://localhost:8080/",
     "height": 170,
     "output_extras": [
      {
       "item_id": 1
      }
     ]
    },
    "colab_type": "code",
    "executionInfo": {
     "elapsed": 580,
     "status": "ok",
     "timestamp": 1520231426388,
     "user": {
      "displayName": "Muhammad Rizki A.R.M",
      "photoUrl": "//lh4.googleusercontent.com/-wJl22KwFwt4/AAAAAAAAAAI/AAAAAAAAAFE/zwUKEd684mI/s50-c-k-no/photo.jpg",
      "userId": "108797564725020082111"
     },
     "user_tz": -480
    },
    "id": "WZu4GmEA_1a2",
    "outputId": "eb55a734-82c0-4777-cfb1-9f91bcae6a67"
   },
   "outputs": [],
   "source": [
    "model = Sequential()\n",
    "model.add(Dense(units=10, input_dim=784, kernel_initializer='normal', activation='softmax'))\n",
    "model.compile(optimizer=SGD(lr=0.05), loss='categorical_crossentropy', metrics=['accuracy'])\n",
    "model.summary()"
   ]
  },
  {
   "cell_type": "markdown",
   "metadata": {
    "colab_type": "text",
    "id": "OMHGVb2ltonx"
   },
   "source": [
    "## Train"
   ]
  },
  {
   "cell_type": "code",
   "execution_count": null,
   "metadata": {
    "colab": {
     "autoexec": {
      "startup": false,
      "wait_interval": 0
     },
     "base_uri": "https://localhost:8080/",
     "height": 377,
     "output_extras": [
      {
       "item_id": 34
      },
      {
       "item_id": 51
      }
     ]
    },
    "colab_type": "code",
    "executionInfo": {
     "elapsed": 17861,
     "status": "ok",
     "timestamp": 1520231444496,
     "user": {
      "displayName": "Muhammad Rizki A.R.M",
      "photoUrl": "//lh4.googleusercontent.com/-wJl22KwFwt4/AAAAAAAAAAI/AAAAAAAAAFE/zwUKEd684mI/s50-c-k-no/photo.jpg",
      "userId": "108797564725020082111"
     },
     "user_tz": -480
    },
    "id": "KUMHyz1A_1a7",
    "outputId": "c52c04c6-23f0-42e3-b935-25e0026f82b0"
   },
   "outputs": [],
   "source": [
    "batch_size = 128\n",
    "epochs = 10\n",
    "\n",
    "history = model.fit(X_train, Y_Train, epochs=epochs, batch_size=batch_size, verbose=1)"
   ]
  },
  {
   "cell_type": "markdown",
   "metadata": {
    "colab_type": "text",
    "id": "vJTLQ9kUuO_W"
   },
   "source": [
    "## Evaluate"
   ]
  },
  {
   "cell_type": "code",
   "execution_count": null,
   "metadata": {
    "colab": {
     "autoexec": {
      "startup": false,
      "wait_interval": 0
     },
     "base_uri": "https://localhost:8080/",
     "height": 51,
     "output_extras": [
      {
       "item_id": 2
      }
     ]
    },
    "colab_type": "code",
    "executionInfo": {
     "elapsed": 2249,
     "status": "ok",
     "timestamp": 1520231446768,
     "user": {
      "displayName": "Muhammad Rizki A.R.M",
      "photoUrl": "//lh4.googleusercontent.com/-wJl22KwFwt4/AAAAAAAAAAI/AAAAAAAAAFE/zwUKEd684mI/s50-c-k-no/photo.jpg",
      "userId": "108797564725020082111"
     },
     "user_tz": -480
    },
    "id": "pmPx6TBP_1a9",
    "outputId": "45e3d309-451f-4f58-fd24-2d94e4d33fe5"
   },
   "outputs": [],
   "source": [
    "evaluation = model.evaluate(X_test, Y_Test, verbose=1)\n",
    "print('Summary: Loss over the test dataset: %.2f, Accuracy: %.2f' % (evaluation[0], evaluation[1]))"
   ]
  },
  {
   "cell_type": "markdown",
   "metadata": {
    "colab_type": "text",
    "id": "3wrbToT8uTQ1"
   },
   "source": [
    "# Multi-layer neural network\n",
    "<img align=\"left\" width=\"40%\" src=\"images/nn-deep-layer.png\"/>"
   ]
  },
  {
   "cell_type": "markdown",
   "metadata": {
    "colab_type": "text",
    "id": "_mb70IwruYq0"
   },
   "source": [
    "## Build"
   ]
  },
  {
   "cell_type": "code",
   "execution_count": null,
   "metadata": {
    "colab": {
     "autoexec": {
      "startup": false,
      "wait_interval": 0
     },
     "base_uri": "https://localhost:8080/",
     "height": 238,
     "output_extras": [
      {
       "item_id": 1
      }
     ]
    },
    "colab_type": "code",
    "executionInfo": {
     "elapsed": 1355,
     "status": "ok",
     "timestamp": 1520231448178,
     "user": {
      "displayName": "Muhammad Rizki A.R.M",
      "photoUrl": "//lh4.googleusercontent.com/-wJl22KwFwt4/AAAAAAAAAAI/AAAAAAAAAFE/zwUKEd684mI/s50-c-k-no/photo.jpg",
      "userId": "108797564725020082111"
     },
     "user_tz": -480
    },
    "id": "5nEcLSSHuXy_",
    "outputId": "ef8cbffa-74ea-4f81-807a-1c40672a5ae7"
   },
   "outputs": [],
   "source": [
    "model = Sequential()\n",
    "model.add(Dense(units=625, input_dim=784, kernel_initializer='normal', activation='sigmoid'))\n",
    "model.add(Dense(units=10, input_dim=625, kernel_initializer='normal', activation='softmax'))\n",
    "model.compile(optimizer=SGD(lr=0.1), loss='categorical_crossentropy', metrics=['accuracy'])\n",
    "model.summary()"
   ]
  },
  {
   "cell_type": "markdown",
   "metadata": {
    "colab_type": "text",
    "id": "FyOh5_WdugEv"
   },
   "source": [
    "## Train"
   ]
  },
  {
   "cell_type": "code",
   "execution_count": null,
   "metadata": {
    "colab": {
     "autoexec": {
      "startup": false,
      "wait_interval": 0
     },
     "base_uri": "https://localhost:8080/",
     "height": 377,
     "output_extras": [
      {
       "item_id": 43
      },
      {
       "item_id": 69
      }
     ]
    },
    "colab_type": "code",
    "executionInfo": {
     "elapsed": 25033,
     "status": "ok",
     "timestamp": 1520231473441,
     "user": {
      "displayName": "Muhammad Rizki A.R.M",
      "photoUrl": "//lh4.googleusercontent.com/-wJl22KwFwt4/AAAAAAAAAAI/AAAAAAAAAFE/zwUKEd684mI/s50-c-k-no/photo.jpg",
      "userId": "108797564725020082111"
     },
     "user_tz": -480
    },
    "id": "2ld1PaOmuhgQ",
    "outputId": "0c78b5d3-d784-4bfc-848d-6ff5dec9f9ac"
   },
   "outputs": [],
   "source": [
    "batch_size = 128\n",
    "epochs = 10\n",
    "\n",
    "history = model.fit(X_train, Y_Train, epochs=epochs, batch_size=batch_size, verbose=1)"
   ]
  },
  {
   "cell_type": "markdown",
   "metadata": {
    "colab_type": "text",
    "id": "BYMQWTyXujrP"
   },
   "source": [
    "## Evaluate"
   ]
  },
  {
   "cell_type": "code",
   "execution_count": null,
   "metadata": {
    "colab": {
     "autoexec": {
      "startup": false,
      "wait_interval": 0
     },
     "base_uri": "https://localhost:8080/",
     "height": 51,
     "output_extras": [
      {
       "item_id": 3
      }
     ]
    },
    "colab_type": "code",
    "executionInfo": {
     "elapsed": 1309,
     "status": "ok",
     "timestamp": 1520231474777,
     "user": {
      "displayName": "Muhammad Rizki A.R.M",
      "photoUrl": "//lh4.googleusercontent.com/-wJl22KwFwt4/AAAAAAAAAAI/AAAAAAAAAFE/zwUKEd684mI/s50-c-k-no/photo.jpg",
      "userId": "108797564725020082111"
     },
     "user_tz": -480
    },
    "id": "Tl5qVlmAulAw",
    "outputId": "8aa03707-c4af-47f7-b526-d4ebeccdfdf9"
   },
   "outputs": [],
   "source": [
    "evaluation = model.evaluate(X_test, Y_Test, verbose=1)\n",
    "print('Summary: Loss over the test dataset: %.2f, Accuracy: %.2f' % (evaluation[0], evaluation[1]))"
   ]
  },
  {
   "cell_type": "markdown",
   "metadata": {
    "colab_type": "text",
    "id": "KhONnA6cv2lz"
   },
   "source": [
    "# Hyperparameters"
   ]
  },
  {
   "cell_type": "markdown",
   "metadata": {
    "colab_type": "text",
    "id": "BO_1VY33whPr"
   },
   "source": [
    "## Preliminaries"
   ]
  },
  {
   "cell_type": "code",
   "execution_count": null,
   "metadata": {
    "colab": {
     "autoexec": {
      "startup": false,
      "wait_interval": 0
     }
    },
    "colab_type": "code",
    "id": "pxPXeKsFwj1A"
   },
   "outputs": [],
   "source": [
    "def default_model():\n",
    "  model = Sequential()\n",
    "  model.add(Dense(units=625, input_dim=784, kernel_initializer='normal', activation='sigmoid'))\n",
    "  model.add(Dense(units=10, input_dim=625, kernel_initializer='normal', activation='softmax'))\n",
    "  return model\n",
    "\n",
    "def default_optim():\n",
    "  return Adam(lr=0.01, beta_1=0.9, beta_2=0.999)\n",
    "\n",
    "def train_model(model, optim=default_optim(), epochs=10, batch_size=128):\n",
    "  model.compile(optimizer=optim, loss='categorical_crossentropy', metrics=['accuracy'])\n",
    "  history = model.fit(X_train, Y_Train, epochs=epochs, batch_size=batch_size, verbose=1)\n",
    "  \n",
    "def eval_model(model):\n",
    "  evaluation = model.evaluate(X_test, Y_Test, verbose=1)\n",
    "  print('Summary: Loss over the test dataset: %.4f, Accuracy: %.4f' % (evaluation[0], evaluation[1]))\n",
    "  \n",
    "def train_and_eval_model(model, optim=default_optim(), epochs=5, batch_size=128):\n",
    "  train_model(model, optim, epochs, batch_size)\n",
    "  eval_model(model)"
   ]
  },
  {
   "cell_type": "markdown",
   "metadata": {
    "colab_type": "text",
    "id": "vKFbZ8O7v5Hh"
   },
   "source": [
    "## Optimizers"
   ]
  },
  {
   "cell_type": "markdown",
   "metadata": {
    "colab_type": "text",
    "id": "2XV1ETSmxkIe"
   },
   "source": [
    "### SGD\n",
    "<img align=\"left\" width=\"40%\" src=\"images/sgd.jpeg\"/>\n",
    "Source: Andrew Ng's Machine Learning Lecture"
   ]
  },
  {
   "cell_type": "code",
   "execution_count": null,
   "metadata": {
    "colab": {
     "autoexec": {
      "startup": false,
      "wait_interval": 0
     },
     "base_uri": "https://localhost:8080/",
     "height": 411,
     "output_extras": [
      {
       "item_id": 40
      },
      {
       "item_id": 68
      }
     ]
    },
    "colab_type": "code",
    "executionInfo": {
     "elapsed": 26157,
     "status": "ok",
     "timestamp": 1520231502527,
     "user": {
      "displayName": "Muhammad Rizki A.R.M",
      "photoUrl": "//lh4.googleusercontent.com/-wJl22KwFwt4/AAAAAAAAAAI/AAAAAAAAAFE/zwUKEd684mI/s50-c-k-no/photo.jpg",
      "userId": "108797564725020082111"
     },
     "user_tz": -480
    },
    "id": "0gVuToHxxlYn",
    "outputId": "f3ac0ba6-25b1-4d2e-bbd4-e017352172c4"
   },
   "outputs": [],
   "source": [
    "from keras.optimizers import SGD\n",
    "\n",
    "optim = SGD(lr=0.01, momentum=0.0, nesterov=False)\n",
    "\n",
    "train_and_eval_model(default_model(), optim)"
   ]
  },
  {
   "cell_type": "markdown",
   "metadata": {
    "colab_type": "text",
    "id": "j-jpeGxDxuKJ"
   },
   "source": [
    "### RMSprop"
   ]
  },
  {
   "cell_type": "code",
   "execution_count": null,
   "metadata": {
    "colab": {
     "autoexec": {
      "startup": false,
      "wait_interval": 0
     },
     "base_uri": "https://localhost:8080/",
     "height": 411,
     "output_extras": [
      {
       "item_id": 48
      },
      {
       "item_id": 88
      }
     ]
    },
    "colab_type": "code",
    "executionInfo": {
     "elapsed": 30005,
     "status": "ok",
     "timestamp": 1520231798005,
     "user": {
      "displayName": "Muhammad Rizki A.R.M",
      "photoUrl": "//lh4.googleusercontent.com/-wJl22KwFwt4/AAAAAAAAAAI/AAAAAAAAAFE/zwUKEd684mI/s50-c-k-no/photo.jpg",
      "userId": "108797564725020082111"
     },
     "user_tz": -480
    },
    "id": "sdnNDuvWxwhC",
    "outputId": "9e14aaca-11a3-4194-a7c8-b8fabbc15ec9"
   },
   "outputs": [],
   "source": [
    "from keras.optimizers import RMSprop\n",
    "\n",
    "optim = RMSprop(lr=0.001, rho=0.9)\n",
    "\n",
    "train_and_eval_model(default_model(), optim)"
   ]
  },
  {
   "cell_type": "markdown",
   "metadata": {
    "colab_type": "text",
    "id": "oK3gcW9CwrZy"
   },
   "source": [
    "### Adam"
   ]
  },
  {
   "cell_type": "code",
   "execution_count": null,
   "metadata": {
    "colab": {
     "autoexec": {
      "startup": false,
      "wait_interval": 0
     },
     "base_uri": "https://localhost:8080/",
     "height": 411,
     "output_extras": [
      {
       "item_id": 53
      },
      {
       "item_id": 100
      }
     ]
    },
    "colab_type": "code",
    "executionInfo": {
     "elapsed": 33451,
     "status": "ok",
     "timestamp": 1520231566271,
     "user": {
      "displayName": "Muhammad Rizki A.R.M",
      "photoUrl": "//lh4.googleusercontent.com/-wJl22KwFwt4/AAAAAAAAAAI/AAAAAAAAAFE/zwUKEd684mI/s50-c-k-no/photo.jpg",
      "userId": "108797564725020082111"
     },
     "user_tz": -480
    },
    "id": "o0WTWEQvwqqU",
    "outputId": "d0ed67b1-c71b-43d7-8d29-d9aae3a51d6f"
   },
   "outputs": [],
   "source": [
    "from keras.optimizers import Adam\n",
    "\n",
    "optim = Adam(lr=0.01, beta_1=0.9, beta_2=0.999)\n",
    "\n",
    "train_and_eval_model(default_model(), optim)"
   ]
  },
  {
   "cell_type": "markdown",
   "metadata": {
    "colab_type": "text",
    "id": "YClmJTuowT2j"
   },
   "source": [
    "## Learning Rate\n",
    "<img align=\"left\" width=\"30%\" src=\"images/lr.jpg\"/>\n",
    "Source: Andrew Ng's Machine Learning Lecture"
   ]
  },
  {
   "cell_type": "code",
   "execution_count": null,
   "metadata": {
    "colab": {
     "autoexec": {
      "startup": false,
      "wait_interval": 0
     },
     "base_uri": "https://localhost:8080/",
     "height": 411,
     "output_extras": [
      {
       "item_id": 43
      },
      {
       "item_id": 72
      }
     ]
    },
    "colab_type": "code",
    "executionInfo": {
     "elapsed": 26844,
     "status": "ok",
     "timestamp": 1520231593147,
     "user": {
      "displayName": "Muhammad Rizki A.R.M",
      "photoUrl": "//lh4.googleusercontent.com/-wJl22KwFwt4/AAAAAAAAAAI/AAAAAAAAAFE/zwUKEd684mI/s50-c-k-no/photo.jpg",
      "userId": "108797564725020082111"
     },
     "user_tz": -480
    },
    "id": "Lll_JpNsyBaT",
    "outputId": "f3b37577-359b-493a-add8-5cf99763fa2b"
   },
   "outputs": [],
   "source": [
    "from keras.optimizers import SGD\n",
    "\n",
    "# Change this to 0.1 and 0.001 to see the difference\n",
    "LEARNING_RATE = 0.01\n",
    "\n",
    "optim = SGD(lr=LEARNING_RATE, momentum=0.0, nesterov=False)\n",
    "\n",
    "train_and_eval_model(default_model(), optim)"
   ]
  },
  {
   "cell_type": "markdown",
   "metadata": {
    "colab_type": "text",
    "id": "vqXAiNOGv76U"
   },
   "source": [
    "## Initializations"
   ]
  },
  {
   "cell_type": "markdown",
   "metadata": {
    "colab_type": "text",
    "id": "wUvSjhFdzKhO"
   },
   "source": [
    "### RandomNormal"
   ]
  },
  {
   "cell_type": "code",
   "execution_count": null,
   "metadata": {
    "colab": {
     "autoexec": {
      "startup": false,
      "wait_interval": 0
     },
     "base_uri": "https://localhost:8080/",
     "height": 411,
     "output_extras": [
      {
       "item_id": 41
      },
      {
       "item_id": 65
      }
     ]
    },
    "colab_type": "code",
    "executionInfo": {
     "elapsed": 20856,
     "status": "ok",
     "timestamp": 1520231614038,
     "user": {
      "displayName": "Muhammad Rizki A.R.M",
      "photoUrl": "//lh4.googleusercontent.com/-wJl22KwFwt4/AAAAAAAAAAI/AAAAAAAAAFE/zwUKEd684mI/s50-c-k-no/photo.jpg",
      "userId": "108797564725020082111"
     },
     "user_tz": -480
    },
    "id": "x3-2X4I2zcKj",
    "outputId": "999bb9e9-ecfe-4de6-b563-8f1d90245fff"
   },
   "outputs": [],
   "source": [
    "from keras.initializers import RandomNormal\n",
    "\n",
    "init = RandomNormal(mean=0.0, stddev=0.05)\n",
    "\n",
    "model = Sequential()\n",
    "model.add(Dense(units=10, input_dim=784, kernel_initializer=init, activation='softmax'))\n",
    "\n",
    "train_and_eval_model(model, default_optim())"
   ]
  },
  {
   "cell_type": "markdown",
   "metadata": {
    "colab_type": "text",
    "id": "iUomKl28zQN4"
   },
   "source": [
    "### He Normal\n",
    "\n",
    "NormalDistribution with variance = 2 / number of input nodes\n",
    "\n",
    "He, Kaiming, et al. \"Delving deep into rectifiers: Surpassing human-level performance on imagenet classification.\" Proceedings of the IEEE international conference on computer vision. 2015.\n"
   ]
  },
  {
   "cell_type": "code",
   "execution_count": null,
   "metadata": {
    "colab": {
     "autoexec": {
      "startup": false,
      "wait_interval": 0
     },
     "base_uri": "https://localhost:8080/",
     "height": 411,
     "output_extras": [
      {
       "item_id": 32
      },
      {
       "item_id": 57
      }
     ]
    },
    "colab_type": "code",
    "executionInfo": {
     "elapsed": 21599,
     "status": "ok",
     "timestamp": 1520231635672,
     "user": {
      "displayName": "Muhammad Rizki A.R.M",
      "photoUrl": "//lh4.googleusercontent.com/-wJl22KwFwt4/AAAAAAAAAAI/AAAAAAAAAFE/zwUKEd684mI/s50-c-k-no/photo.jpg",
      "userId": "108797564725020082111"
     },
     "user_tz": -480
    },
    "id": "7ZLPOSmyz_1v",
    "outputId": "5ede66e4-d064-4ad1-eeae-d6b843322050"
   },
   "outputs": [],
   "source": [
    "from keras.initializers import he_normal\n",
    "\n",
    "init = he_normal()\n",
    "\n",
    "model = Sequential()\n",
    "model.add(Dense(units=10, input_dim=784, kernel_initializer=init, activation='softmax'))\n",
    "\n",
    "train_and_eval_model(model, default_optim())"
   ]
  },
  {
   "cell_type": "markdown",
   "metadata": {
    "colab_type": "text",
    "id": "BsV9beQAzSgG"
   },
   "source": [
    "### Glorot Uniform\n",
    "\n",
    "UniformDistribution from -2 / (number of input nodes + number of output nodes) to 2 / number of input nodes + number of output nodes)\n",
    "\n",
    "Glorot, Xavier, and Yoshua Bengio. \"Understanding the difficulty of training deep feedforward neural networks.\" Proceedings of the Thirteenth International Conference on Artificial Intelligence and Statistics. 2010."
   ]
  },
  {
   "cell_type": "code",
   "execution_count": null,
   "metadata": {
    "colab": {
     "autoexec": {
      "startup": false,
      "wait_interval": 0
     },
     "base_uri": "https://localhost:8080/",
     "height": 411,
     "output_extras": [
      {
       "item_id": 37
      },
      {
       "item_id": 64
      }
     ]
    },
    "colab_type": "code",
    "executionInfo": {
     "elapsed": 21711,
     "status": "ok",
     "timestamp": 1520231657437,
     "user": {
      "displayName": "Muhammad Rizki A.R.M",
      "photoUrl": "//lh4.googleusercontent.com/-wJl22KwFwt4/AAAAAAAAAAI/AAAAAAAAAFE/zwUKEd684mI/s50-c-k-no/photo.jpg",
      "userId": "108797564725020082111"
     },
     "user_tz": -480
    },
    "id": "pNe5M0V70FDo",
    "outputId": "57dab912-5cc1-420d-f76f-d7d5cd2d8d91"
   },
   "outputs": [],
   "source": [
    "from keras.initializers import glorot_uniform\n",
    "\n",
    "init = glorot_uniform()\n",
    "\n",
    "model = Sequential()\n",
    "model.add(Dense(units=10, input_dim=784, kernel_initializer=init, activation='softmax'))\n",
    "\n",
    "train_and_eval_model(model, default_optim())"
   ]
  },
  {
   "cell_type": "markdown",
   "metadata": {
    "colab_type": "text",
    "id": "ZiTQJI2GwKVS"
   },
   "source": [
    "## Activations"
   ]
  },
  {
   "cell_type": "markdown",
   "metadata": {
    "colab_type": "text",
    "id": "MLl-7dDG0S0V"
   },
   "source": [
    "### Sigmoid\n",
    "<img align=\"left\" width=\"30%\" src=\"images/sigmoid.png\"/>"
   ]
  },
  {
   "cell_type": "code",
   "execution_count": null,
   "metadata": {
    "colab": {
     "autoexec": {
      "startup": false,
      "wait_interval": 0
     },
     "base_uri": "https://localhost:8080/",
     "height": 1697,
     "output_extras": [
      {
       "item_id": 30
      },
      {
       "item_id": 31
      }
     ]
    },
    "colab_type": "code",
    "executionInfo": {
     "elapsed": 12186,
     "status": "error",
     "timestamp": 1520231669653,
     "user": {
      "displayName": "Muhammad Rizki A.R.M",
      "photoUrl": "//lh4.googleusercontent.com/-wJl22KwFwt4/AAAAAAAAAAI/AAAAAAAAAFE/zwUKEd684mI/s50-c-k-no/photo.jpg",
      "userId": "108797564725020082111"
     },
     "user_tz": -480
    },
    "id": "ZpYLOZ2E0ea5",
    "outputId": "87e11a2f-8f64-4340-a42b-c015969e4e30"
   },
   "outputs": [],
   "source": [
    "from keras.layers import Activation\n",
    "\n",
    "model = Sequential()\n",
    "model.add(Dense(units=625, input_dim=784, kernel_initializer='normal'))\n",
    "model.add(Activation('sigmoid'))\n",
    "model.add(Dense(units=10, input_dim=625, kernel_initializer='normal', activation='softmax'))\n",
    "\n",
    "train_and_eval_model(model, default_optim())"
   ]
  },
  {
   "cell_type": "markdown",
   "metadata": {
    "colab_type": "text",
    "id": "9GlOhB-X0RjP"
   },
   "source": [
    "### Tanh\n",
    "<img align=\"left\" width=\"30%\" src=\"images/tanh.png\"/>"
   ]
  },
  {
   "cell_type": "code",
   "execution_count": null,
   "metadata": {
    "colab": {
     "autoexec": {
      "startup": false,
      "wait_interval": 0
     },
     "base_uri": "https://localhost:8080/",
     "height": 411,
     "output_extras": [
      {
       "item_id": 1
      },
      {
       "item_id": 39
      },
      {
       "item_id": 68
      }
     ]
    },
    "colab_type": "code",
    "executionInfo": {
     "elapsed": 27040,
     "status": "ok",
     "timestamp": 1520231264161,
     "user": {
      "displayName": "Muhammad Rizki A.R.M",
      "photoUrl": "//lh4.googleusercontent.com/-wJl22KwFwt4/AAAAAAAAAAI/AAAAAAAAAFE/zwUKEd684mI/s50-c-k-no/photo.jpg",
      "userId": "108797564725020082111"
     },
     "user_tz": -480
    },
    "id": "HsnYMz-_01Rt",
    "outputId": "41d183e4-453d-4641-a6e3-b4ec709a4f49"
   },
   "outputs": [],
   "source": [
    "from keras.layers import Activation\n",
    "\n",
    "model = Sequential()\n",
    "model.add(Dense(units=625, input_dim=784, kernel_initializer='normal'))\n",
    "model.add(Activation('tanh'))\n",
    "model.add(Dense(units=10, input_dim=625, kernel_initializer='normal', activation='softmax'))\n",
    "\n",
    "train_and_eval_model(model, default_optim())"
   ]
  },
  {
   "cell_type": "markdown",
   "metadata": {
    "colab_type": "text",
    "id": "YlUemIcb0PiK"
   },
   "source": [
    "### ReLU\n",
    "<img align=\"left\" width=\"30%\" src=\"images/relu.png\"/>"
   ]
  },
  {
   "cell_type": "code",
   "execution_count": null,
   "metadata": {
    "colab": {
     "autoexec": {
      "startup": false,
      "wait_interval": 0
     },
     "base_uri": "https://localhost:8080/",
     "height": 411,
     "output_extras": [
      {
       "item_id": 1
      },
      {
       "item_id": 47
      },
      {
       "item_id": 55
      }
     ]
    },
    "colab_type": "code",
    "id": "xMBelTtU0O6k",
    "outputId": "fd78a89e-3750-42fc-9c51-f60ef509fa46"
   },
   "outputs": [],
   "source": [
    "from keras.layers import Activation\n",
    "\n",
    "model = Sequential()\n",
    "model.add(Dense(units=625, input_dim=784, kernel_initializer='normal'))\n",
    "model.add(Activation('relu'))\n",
    "model.add(Dense(units=10, input_dim=625, kernel_initializer='normal', activation='softmax'))\n",
    "\n",
    "train_and_eval_model(model, default_optim())"
   ]
  }
 ],
 "metadata": {
  "accelerator": "GPU",
  "colab": {
   "default_view": {},
   "name": "01_neural_net_intro.ipynb",
   "provenance": [],
   "version": "0.3.2",
   "views": {}
  },
  "kernelspec": {
   "display_name": "Python 2",
   "language": "python",
   "name": "python2"
  },
  "language_info": {
   "codemirror_mode": {
    "name": "ipython",
    "version": 2
   },
   "file_extension": ".py",
   "mimetype": "text/x-python",
   "name": "python",
   "nbconvert_exporter": "python",
   "pygments_lexer": "ipython2",
   "version": "2.7.12"
  }
 },
 "nbformat": 4,
 "nbformat_minor": 1
}
