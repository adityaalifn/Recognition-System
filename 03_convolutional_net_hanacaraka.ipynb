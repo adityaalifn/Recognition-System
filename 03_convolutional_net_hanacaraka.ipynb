{
 "cells": [
  {
   "cell_type": "markdown",
   "metadata": {
    "colab_type": "text",
    "id": "i6H04wdh5QfO"
   },
   "source": [
    "# Import dependencies"
   ]
  },
  {
   "cell_type": "code",
   "execution_count": null,
   "metadata": {
    "colab": {
     "autoexec": {
      "startup": false,
      "wait_interval": 0
     }
    },
    "colab_type": "code",
    "id": "guUyTDBLzseC"
   },
   "outputs": [],
   "source": [
    "from keras.models import Sequential\n",
    "from keras.layers import Dense, Flatten, Conv2D, MaxPooling2D, AveragePooling2D, Dropout, SpatialDropout2D\n",
    "from keras.optimizers import RMSprop\n",
    "from keras.preprocessing import image \n",
    "from keras import backend as K\n",
    "import os\n",
    "import numpy as np\n",
    "from keras.applications.resnet50 import preprocess_input\n",
    "import PIL.ImageOps    \n",
    "from keras.utils import np_utils\n",
    "np.random.seed(23)"
   ]
  },
  {
   "cell_type": "markdown",
   "metadata": {
    "colab_type": "text",
    "id": "5OX6pgFZ5UPv"
   },
   "source": [
    "# Load the Hanacaraka Dataset\n",
    "Dataset courtesy of Muhammad Soleh, HPC Lab 1231 Fasilkom UI"
   ]
  },
  {
   "cell_type": "code",
   "execution_count": null,
   "metadata": {
    "colab": {
     "autoexec": {
      "startup": false,
      "wait_interval": 0
     },
     "base_uri": "https://localhost:8080/",
     "height": 146,
     "output_extras": [
      {},
      {}
     ]
    },
    "colab_type": "code",
    "executionInfo": {
     "elapsed": 1800,
     "status": "ok",
     "timestamp": 1520233355184,
     "user": {
      "displayName": "Muhammad Rizki A.R.M",
      "photoUrl": "//lh4.googleusercontent.com/-wJl22KwFwt4/AAAAAAAAAAI/AAAAAAAAAFE/zwUKEd684mI/s50-c-k-no/photo.jpg",
      "userId": "108797564725020082111"
     },
     "user_tz": -480
    },
    "id": "-pnIt3fjzseN",
    "outputId": "a32bd79a-0453-4520-ef6a-ae9497c8d5ff"
   },
   "outputs": [],
   "source": [
    "folder = 'hanacaraka/'\n",
    "\n",
    "# Settings\n",
    "img_rows, img_cols = 60, 78         \n",
    "nb_classes = 20\n",
    "number_of_data = 2000\n",
    "\n",
    "X_train = []\n",
    "Y_train = []\n",
    "\n",
    "for cl, fld in enumerate(os.listdir(folder)):\n",
    "        for f in os.listdir(folder + fld):\n",
    "                img = image.load_img(folder + fld + '/' + f, grayscale=True, \n",
    "                                     target_size=(img_rows, img_cols))\n",
    "                img = PIL.ImageOps.invert(img)\n",
    "                img = image.img_to_array(img)\n",
    "                X_train.append(img.reshape((img_rows, img_cols, 1)))\n",
    "                Y_train.append(cl)\n",
    "\n",
    "X_train = np.array(X_train)\n",
    "Y_train = np.array(Y_train)\n",
    "\n",
    "shuffled_indices = np.random.permutation(X_train.shape[0])\n",
    "X_train = X_train[shuffled_indices] \n",
    "Y_train = Y_train[shuffled_indices] \n",
    "X_test = X_train[X_train.shape[0]//2:]\n",
    "X_train = X_train[:X_train.shape[0]//2]\n",
    "\n",
    "Y_test = Y_train[Y_train.shape[0]//2:]\n",
    "Y_train = Y_train[:Y_train.shape[0]//2]\n",
    "\n",
    "print('X_train original shape:', X_train.shape)\n",
    "\n",
    "if K.image_dim_ordering() == 'th':\n",
    "    # For Theano backend\n",
    "    X_train = X_train.reshape(X_train.shape[0], 1, img_rows, img_cols)\n",
    "    X_test = X_test.reshape(X_test.shape[0], 1, img_rows, img_cols)\n",
    "    input_shape = (1, img_rows, img_cols)\n",
    "else:\n",
    "    # For TensorFlow backend\n",
    "    X_train = X_train.reshape(X_train.shape[0], img_rows, img_cols, 1)\n",
    "    X_test = X_test.reshape(X_test.shape[0], img_rows, img_cols, 1)\n",
    "    input_shape = (img_rows, img_cols, 1)\n",
    "\n",
    "# Split train test\n",
    "X_train = X_train.astype('float32') / 255.\n",
    "X_test = X_test.astype('float32') / 255.\n",
    "Y_train = np_utils.to_categorical(Y_train, nb_classes)\n",
    "Y_test = np_utils.to_categorical(Y_test, nb_classes)\n",
    "\n",
    "test_data = 1000\n",
    "\n",
    "X_train = X_train[:number_of_data]\n",
    "Y_train = Y_train[:number_of_data]\n",
    "X_test = X_test[:test_data]\n",
    "Y_test = Y_test[:test_data]\n",
    "\n",
    "print('X_train shape:', X_train.shape)\n",
    "print(X_train.shape[0], 'train samples')\n",
    "print(X_test.shape[0], 'test samples')\n",
    "    \n",
    "\n",
    "# Visualize Hanacaraka dataset\n",
    "import matplotlib.pyplot as plt\n",
    "%matplotlib inline\n",
    "\n",
    "n = 10  \n",
    "plt.figure(figsize=(10, 4))\n",
    "for i in range(n):\n",
    "    # display original\n",
    "    ax = plt.subplot(2, n, i + 1)\n",
    "    plt.imshow(X_train[i].reshape(img_rows, img_cols))\n",
    "    plt.gray()\n",
    "    ax.get_xaxis().set_visible(False)\n",
    "    ax.get_yaxis().set_visible(False)\n",
    "plt.show()"
   ]
  },
  {
   "cell_type": "markdown",
   "metadata": {
    "colab_type": "text",
    "id": "xOt_LvYv6O_b"
   },
   "source": [
    "# Convolutional Neural Network"
   ]
  },
  {
   "cell_type": "markdown",
   "metadata": {
    "colab_type": "text",
    "id": "uaT6lQEK6hVw"
   },
   "source": [
    "## Build"
   ]
  },
  {
   "cell_type": "code",
   "execution_count": null,
   "metadata": {
    "colab": {
     "autoexec": {
      "startup": false,
      "wait_interval": 0
     },
     "base_uri": "https://localhost:8080/",
     "height": 578,
     "output_extras": [
      {}
     ]
    },
    "colab_type": "code",
    "executionInfo": {
     "elapsed": 702,
     "status": "ok",
     "timestamp": 1520233355922,
     "user": {
      "displayName": "Muhammad Rizki A.R.M",
      "photoUrl": "//lh4.googleusercontent.com/-wJl22KwFwt4/AAAAAAAAAAI/AAAAAAAAAFE/zwUKEd684mI/s50-c-k-no/photo.jpg",
      "userId": "108797564725020082111"
     },
     "user_tz": -480
    },
    "id": "tobvxLB-zseX",
    "outputId": "81c7b137-0adf-4432-fb12-3303160d1d06"
   },
   "outputs": [],
   "source": [
    "# Settings\n",
    "pool_size = (3, 3)                  # size of pooling area for max pooling\n",
    "prob_drop_conv = 0.1              # drop probability for dropout @ conv layer\n",
    "prob_drop_hidden = 0.3              # drop probability for dropout @ fc layer\n",
    "\n",
    "# Convolutional model\n",
    "model = Sequential()\n",
    "\n",
    "# conv1 layer\n",
    "model.add(Conv2D(8, (3, 3), padding='same', activation='relu', input_shape=input_shape))\n",
    "model.add(MaxPooling2D(pool_size=pool_size, strides=(2,2), padding='same'))\n",
    "model.add(SpatialDropout2D(prob_drop_conv))\n",
    "model.add(Flatten())\n",
    "model.add(Dropout(prob_drop_conv))\n",
    "\n",
    "# fc1 layer\n",
    "model.add(Dense(300, activation='relu'))\n",
    "model.add(Dropout(prob_drop_hidden))\n",
    "\n",
    "# fc2 layer\n",
    "model.add(Dense(nb_classes, activation='softmax'))\n",
    "\n",
    "model.compile(optimizer='sgd', loss='categorical_crossentropy', metrics=['accuracy'])\n",
    "model.summary()"
   ]
  },
  {
   "cell_type": "markdown",
   "metadata": {
    "colab_type": "text",
    "id": "pjdhi6sg6jpH"
   },
   "source": [
    "## Train"
   ]
  },
  {
   "cell_type": "code",
   "execution_count": null,
   "metadata": {
    "colab": {
     "autoexec": {
      "startup": false,
      "wait_interval": 0
     },
     "base_uri": "https://localhost:8080/",
     "height": 357,
     "output_extras": [
      {}
     ]
    },
    "colab_type": "code",
    "executionInfo": {
     "elapsed": 2772,
     "status": "ok",
     "timestamp": 1520233358973,
     "user": {
      "displayName": "Muhammad Rizki A.R.M",
      "photoUrl": "//lh4.googleusercontent.com/-wJl22KwFwt4/AAAAAAAAAAI/AAAAAAAAAFE/zwUKEd684mI/s50-c-k-no/photo.jpg",
      "userId": "108797564725020082111"
     },
     "user_tz": -480
    },
    "id": "OQCcrF3kzsec",
    "outputId": "79aff32f-0ece-498f-db98-f18376e198b9"
   },
   "outputs": [],
   "source": [
    "# Settings\n",
    "batch_size = 128\n",
    "epochs = 10\n",
    "\n",
    "# Train\n",
    "history = model.fit(X_train, Y_train, epochs=epochs, batch_size=batch_size, shuffle=True, verbose=1)"
   ]
  },
  {
   "cell_type": "markdown",
   "metadata": {
    "colab_type": "text",
    "id": "hm9ZQrMp6ndB"
   },
   "source": [
    "## Evaluate"
   ]
  },
  {
   "cell_type": "code",
   "execution_count": null,
   "metadata": {
    "colab": {
     "autoexec": {
      "startup": false,
      "wait_interval": 0
     },
     "base_uri": "https://localhost:8080/",
     "height": 189,
     "output_extras": [
      {}
     ]
    },
    "colab_type": "code",
    "executionInfo": {
     "elapsed": 779,
     "status": "error",
     "timestamp": 1520251006109,
     "user": {
      "displayName": "Remmy A. M. Zen",
      "photoUrl": "//lh3.googleusercontent.com/-ktZ2HlWgZKs/AAAAAAAAAAI/AAAAAAAAAyQ/KXzkZxHcCv8/s50-c-k-no/photo.jpg",
      "userId": "105553372204800287741"
     },
     "user_tz": -480
    },
    "id": "aXnmFiWUzseg",
    "outputId": "0d6d4799-6637-4e01-82c1-4fc457dc8cda"
   },
   "outputs": [],
   "source": [
    "evaluation = model.evaluate(X_test, Y_test, batch_size=256, verbose=1)\n",
    "print('Summary: Loss over the test dataset: %.2f, Accuracy: %.2f' % (evaluation[0], evaluation[1]))"
   ]
  },
  {
   "cell_type": "code",
   "execution_count": null,
   "metadata": {},
   "outputs": [],
   "source": []
  }
 ],
 "metadata": {
  "accelerator": "GPU",
  "colab": {
   "default_view": {},
   "name": "03_convolutional_net_hanacaraka.ipynb",
   "provenance": [],
   "version": "0.3.2",
   "views": {}
  },
  "kernelspec": {
   "display_name": "Python 2",
   "language": "python",
   "name": "python2"
  }
 },
 "nbformat": 4,
 "nbformat_minor": 1
}
